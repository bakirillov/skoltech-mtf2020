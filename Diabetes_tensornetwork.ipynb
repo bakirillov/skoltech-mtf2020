{
 "cells": [
  {
   "cell_type": "markdown",
   "metadata": {
    "id": "vYlD6_f_L7Gh"
   },
   "source": [
    "# Diabetes dataset demo"
   ]
  },
  {
   "cell_type": "code",
   "execution_count": 1,
   "metadata": {
    "colab": {
     "base_uri": "https://localhost:8080/",
     "height": 272
    },
    "executionInfo": {
     "elapsed": 5156,
     "status": "ok",
     "timestamp": 1603451864171,
     "user": {
      "displayName": "anton dmitriev",
      "photoUrl": "",
      "userId": "04496317055992149903"
     },
     "user_tz": -180
    },
    "id": "ej_Rkfnq7U1a",
    "outputId": "d83af292-5128-40a1-a217-a584c6015ef2"
   },
   "outputs": [
    {
     "name": "stdout",
     "output_type": "stream",
     "text": [
      "Collecting tensorly\n",
      "\u001b[?25l  Downloading https://files.pythonhosted.org/packages/d2/14/a399fbea0b8e651bfdcba0cf96e842550204dc2ff24251015fd969b6adec/tensorly-0.5.0.tar.gz (103kB)\n",
      "\u001b[K     |████████████████████████████████| 112kB 4.8MB/s \n",
      "\u001b[?25hRequirement already satisfied: numpy in /usr/local/lib/python3.6/dist-packages (from tensorly) (1.18.5)\n",
      "Requirement already satisfied: scipy in /usr/local/lib/python3.6/dist-packages (from tensorly) (1.4.1)\n",
      "Collecting nose\n",
      "\u001b[?25l  Downloading https://files.pythonhosted.org/packages/15/d8/dd071918c040f50fa1cf80da16423af51ff8ce4a0f2399b7bf8de45ac3d9/nose-1.3.7-py3-none-any.whl (154kB)\n",
      "\u001b[K     |████████████████████████████████| 163kB 14.9MB/s \n",
      "\u001b[?25hBuilding wheels for collected packages: tensorly\n",
      "  Building wheel for tensorly (setup.py) ... \u001b[?25l\u001b[?25hdone\n",
      "  Created wheel for tensorly: filename=tensorly-0.5.0-cp36-none-any.whl size=143028 sha256=0cc001637ecbe111b19a7b4ebbba2e2b525b48806a52206d335023c5d426668c\n",
      "  Stored in directory: /root/.cache/pip/wheels/29/54/bc/46d12f7739ad709844b21801e3a91127bc91002111448e3572\n",
      "Successfully built tensorly\n",
      "Installing collected packages: nose, tensorly\n",
      "Successfully installed nose-1.3.7 tensorly-0.5.0\n"
     ]
    }
   ],
   "source": [
    "!pip install tensorly"
   ]
  },
  {
   "cell_type": "code",
   "execution_count": 2,
   "metadata": {
    "executionInfo": {
     "elapsed": 8471,
     "status": "ok",
     "timestamp": 1603451867664,
     "user": {
      "displayName": "anton dmitriev",
      "photoUrl": "",
      "userId": "04496317055992149903"
     },
     "user_tz": -180
    },
    "id": "u3Nl8k8wPKSP"
   },
   "outputs": [],
   "source": [
    "import torch\n",
    "import numpy as np\n",
    "from torch import nn\n",
    "import tensorly as tl\n",
    "from tqdm import tqdm\n",
    "import matplotlib.pyplot\n",
    "from torch.optim import Adam\n",
    "from torch.utils.data import DataLoader\n",
    "from torch.optim.lr_scheduler import StepLR\n",
    "from torch.nn.utils import clip_grad_norm_"
   ]
  },
  {
   "cell_type": "markdown",
   "metadata": {
    "id": "YCVo2fHQMAoy"
   },
   "source": [
    "## Tensor layer code"
   ]
  },
  {
   "cell_type": "code",
   "execution_count": 3,
   "metadata": {
    "executionInfo": {
     "elapsed": 8589,
     "status": "ok",
     "timestamp": 1603451867971,
     "user": {
      "displayName": "anton dmitriev",
      "photoUrl": "",
      "userId": "04496317055992149903"
     },
     "user_tz": -180
    },
    "id": "OFXmbBgO8A4b"
   },
   "outputs": [],
   "source": [
    "import numpy as np\n",
    "import matplotlib.pyplot as plt\n",
    "import torch\n",
    "from torch import nn\n",
    "from tqdm.notebook import tqdm\n",
    "\n",
    "import tensorly as tl\n",
    "from tensorly.random import random_tucker\n",
    "from tensorly.tucker_tensor import tucker_to_tensor\n",
    "\n",
    "\n",
    "from torch.utils.data import Dataset\n",
    "\n",
    "#tl.set_backend('pytorch')\n",
    "\n",
    "\n",
    "class NeuralTensorLayer(torch.nn.Module):\n",
    "    \n",
    "    \"\"\"\n",
    "    This is the class for the layer\n",
    "    \"\"\"\n",
    "    \n",
    "    def __init__(self, order, input_dim, output_dim, rank_tucker=-1,\n",
    "                 initializer=torch.nn.init.xavier_uniform):\n",
    "        \n",
    "        super(NeuralTensorLayer, self).__init__()\n",
    "        \n",
    "        self.order = order\n",
    "        self.rank_tucker = rank_tucker\n",
    "        \n",
    "        if order > 3 or order < 1:\n",
    "            raise Exception('Order must be in range [1, 3]')\n",
    "            \n",
    "        if rank_tucker != -1 and rank_tucker < 1:\n",
    "            raise Exception('Tucker rank must be -1 or greater than 0 integer')\n",
    "            \n",
    "        self.input_dim = input_dim\n",
    "        self.output_dim = output_dim\n",
    "        \n",
    "        self.bias = nn.Parameter(torch.zeros((1, output_dim)), requires_grad=True)\n",
    "        initializer(self.bias)\n",
    "        \n",
    "        self.myparameters = torch.nn.ParameterList([self.bias])\n",
    "        \n",
    "        self.order1_tens = self.initialize_n_order_tensor(1, initializer)\n",
    "        \n",
    "        if order >= 2:\n",
    "            self.order2_tens = self.initialize_n_order_tensor(2, initializer)\n",
    "            \n",
    "        if order == 3:\n",
    "            self.order3_tens = self.initialize_n_order_tensor(3, initializer)\n",
    "        \n",
    "    # initialize tensor in full or in decomposed form and register it as parameter\n",
    "    def initialize_n_order_tensor(self, order, initializer):\n",
    "        \n",
    "        if self.rank_tucker >= 1:\n",
    "            \n",
    "            dim_list = [self.input_dim] * order + [self.output_dim]\n",
    "            tens_core, factors = random_tucker(dim_list, self.rank_tucker)\n",
    "            tens_core = nn.Parameter(tens_core, requires_grad=True)\n",
    "            factors = [nn.Parameter(fact, requires_grad=True) for fact in factors]\n",
    "            \n",
    "            self.myparameters.append(tens_core)\n",
    "            for fact in factors:\n",
    "                self.myparameters.append(fact)\n",
    "                \n",
    "            return (tens_core, factors)\n",
    "            \n",
    "        else:\n",
    "            \n",
    "            dim_list = [self.input_dim] * order + [self.output_dim]\n",
    "            var = nn.Parameter(torch.zeros(dim_list), requires_grad=True)\n",
    "            initializer(var)\n",
    "            self.myparameters.append(var)\n",
    "            \n",
    "            return var\n",
    "\n",
    "    def compute_result_for_vec(self, core, factor_inp, last_factor): # result dim (1, 1)\n",
    "        result = core\n",
    "        for i in range(len(factor_inp)):\n",
    "            result = tl.tenalg.mode_dot(result, factor_inp[i], i)\n",
    "        result = result.view(1, -1).mm(torch.transpose(last_factor, 0, 1))\n",
    "        return result.view(-1)\n",
    "\n",
    "    def mode_n_dot_accelerated(self, core, factors, input):\n",
    "\n",
    "        new_factors = [torch.transpose(factors[i], 0, 1).mm(input) for i in range(len(factors) - 1)]\n",
    "\n",
    "        return torch.stack([\n",
    "                            self.compute_result_for_vec(core, \n",
    "                                                        [new_factors[k][:, i] for k in range(len(factors) - 1)], factors[-1]) \n",
    "                            for i in range(input.shape[1])\n",
    "                            ], dim=0)\n",
    "        \n",
    "    def forward(self, X, transposed=False):\n",
    "        \n",
    "        #X = torch.Tensor(X)\n",
    "        \n",
    "        if self.rank_tucker == -1:\n",
    "            result = torch.addmm(self.bias, X, self.order1_tens)\n",
    "        else:\n",
    "            result = torch.addmm(self.bias, X, tucker_to_tensor(self.order1_tens))\n",
    "        \n",
    "        if self.order >= 2:\n",
    "            \n",
    "            if self.rank_tucker == -1:      \n",
    "                acc = tl.tenalg.mode_dot(self.order2_tens, X, 0)\n",
    "            else:\n",
    "                acc = tl.tenalg.mode_dot(tucker_to_tensor(self.order2_tens), X, 0)\n",
    "\n",
    "            acc = tl.tenalg.mode_dot(acc, X, 1)\n",
    "            result += torch.einsum('iik->ik', acc)\n",
    "        \n",
    "        if self.order == 3:\n",
    "             \n",
    "            if self.rank_tucker == -1:      \n",
    "                acc = tl.tenalg.mode_dot(self.order3_tens, X, 0)\n",
    "            else:\n",
    "                acc = tl.tenalg.mode_dot(tucker_to_tensor(self.order3_tens), X, 0)\n",
    "            \n",
    "            acc = tl.tenalg.mode_dot(acc, X, 1)\n",
    "            acc = tl.tenalg.mode_dot(acc, X, 2)\n",
    "            result += torch.einsum('iiik->ik', acc)\n",
    "        \n",
    "        return tl.reshape(result, (X.shape[0], self.output_dim))\n",
    "\n",
    "    def get_orthogonality_loss(self):\n",
    "\n",
    "        if self.rank_tucker == -1:\n",
    "            return 0\n",
    "\n",
    "        loss = 0\n",
    "\n",
    "        for fact in self.order1_tens[1]:\n",
    "            loss += torch.sum((tl.dot(fact.T, fact) - torch.eye(fact.shape[1]).cuda()) ** 2)\n",
    "        \n",
    "        if self.order >= 2:\n",
    "            \n",
    "            for fact in self.order2_tens[1]:\n",
    "                loss += torch.sum((tl.dot(fact.T, fact) - torch.eye(fact.shape[1]).cuda()) ** 2)\n",
    "        \n",
    "        if self.order == 3:\n",
    "             \n",
    "            for fact in self.order3_tens[1]:\n",
    "                loss += torch.sum((tl.dot(fact.T, fact) - torch.eye(fact.shape[1]).cuda()) ** 2)\n",
    "\n",
    "        return loss"
   ]
  },
  {
   "cell_type": "markdown",
   "metadata": {
    "id": "_hkx3O3rMTQY"
   },
   "source": [
    "## Neural network based on tensor layer"
   ]
  },
  {
   "cell_type": "code",
   "execution_count": 71,
   "metadata": {
    "executionInfo": {
     "elapsed": 629,
     "status": "ok",
     "timestamp": 1603452655672,
     "user": {
      "displayName": "anton dmitriev",
      "photoUrl": "",
      "userId": "04496317055992149903"
     },
     "user_tz": -180
    },
    "id": "wBxDVZtnMR9v"
   },
   "outputs": [],
   "source": [
    "class TensorNet(nn.Module): \n",
    "    \n",
    "    def __init__(\n",
    "        self, order, input_dim, output_dim, rank_tucker=5\n",
    "    ):\n",
    "        super(TensorNet, self).__init__()\n",
    "        self.tensor = NeuralTensorLayer(\n",
    "            order, input_dim, output_dim, rank_tucker=rank_tucker\n",
    "        )\n",
    "        self.bn = nn.BatchNorm1d(output_dim)\n",
    "        #self.l = nn.Linear(tensor_dim, output_dim)\n",
    "        self.s = nn.Sigmoid()\n",
    "        \n",
    "    def forward(self, x):\n",
    "        return(self.s(self.bn(self.tensor(x))))\n",
    "    \n",
    "    def predict(self, loader, loss=None, train=True, verbose=False, orth_alpha=None):\n",
    "        Y_hat = []\n",
    "        mean_loss = 0\n",
    "        ld = tqdm(loader) if verbose else loader\n",
    "        for i,a in enumerate(ld):\n",
    "            d = a[0] if train else a\n",
    "            c_Y_hat = self.forward(d)\n",
    "            c_y_hat = c_Y_hat.cpu().data.numpy()\n",
    "            Y_hat.append(c_y_hat)\n",
    "            if train:\n",
    "                loss_val = loss(c_Y_hat, a[1])\n",
    "                if orth_alpha:\n",
    "                    loss_val += self.tensor.get_orthogonality_loss()*orth_alpha\n",
    "                mean_loss += loss_val.cpu().data.numpy()\n",
    "        return np.concatenate(Y_hat), mean_loss / i\n",
    "    \n",
    "    def fit(\n",
    "        self, loader, loss, optimizer, scheduler, n_iter, \n",
    "        val_loader, metrics, print_every=10, orth_alpha=0.1, fit_orthogonality=True\n",
    "    ):\n",
    "        history = {a: [] for a in metrics}\n",
    "        history[\"train_loss\"] = []\n",
    "        history[\"val_loss\"] = []\n",
    "        for j in tqdm(np.arange(n_iter)):\n",
    "            mean_loss = 0\n",
    "            self.train()\n",
    "            for i,(batch_X, batch_Y) in enumerate(loader):\n",
    "                optimizer.zero_grad()\n",
    "                Y_hat = self.forward(batch_X)\n",
    "                loss_val = loss(Y_hat, batch_Y)\n",
    "                if fit_orthogonality:\n",
    "                    loss_val += self.tensor.get_orthogonality_loss()*orth_alpha\n",
    "                loss_val.backward()\n",
    "                optimizer.step()\n",
    "                mean_loss += loss_val.cpu().data.numpy()\n",
    "            history[\"train_loss\"].append(mean_loss/i)\n",
    "            self.eval()\n",
    "            val_Y_hat, val_loss = self.predict(val_loader, loss, orth_alpha=orth_alpha)\n",
    "            history[\"val_loss\"].append(val_loss)\n",
    "            val_Y = np.concatenate([a[1].cpu().data.numpy() for a in val_loader])\n",
    "            for m in metrics:\n",
    "                history[m].append(metrics[m](val_Y, val_Y_hat))\n",
    "            if (j+1) % print_every == 0:\n",
    "                print(\"epoch#\"+str(j))\n",
    "                print(\"train loss\", history[\"train_loss\"][-1])\n",
    "                print(\"val loss\", history[\"val_loss\"][-1])\n",
    "                for m in metrics:\n",
    "                    print(m, history[m][-1])\n",
    "            clip_grad_norm_(self.parameters(), 0.3)\n",
    "            scheduler.step()\n",
    "        return history"
   ]
  },
  {
   "cell_type": "markdown",
   "metadata": {
    "id": "HWsmxSouMYRU"
   },
   "source": [
    "## Data import"
   ]
  },
  {
   "cell_type": "code",
   "execution_count": 87,
   "metadata": {
    "colab": {
     "base_uri": "https://localhost:8080/",
     "height": 34
    },
    "executionInfo": {
     "elapsed": 1101,
     "status": "ok",
     "timestamp": 1603452711606,
     "user": {
      "displayName": "anton dmitriev",
      "photoUrl": "",
      "userId": "04496317055992149903"
     },
     "user_tz": -180
    },
    "id": "6U1zMtbn7adG",
    "outputId": "1f80dd34-dbb0-4fa0-8cd6-f7b57702ef75"
   },
   "outputs": [
    {
     "name": "stdout",
     "output_type": "stream",
     "text": [
      "Drive already mounted at /content/drive; to attempt to forcibly remount, call drive.mount(\"/content/drive\", force_remount=True).\n"
     ]
    }
   ],
   "source": [
    "from google.colab import drive\n",
    "drive.mount('/content/drive')"
   ]
  },
  {
   "cell_type": "code",
   "execution_count": 88,
   "metadata": {
    "executionInfo": {
     "elapsed": 932,
     "status": "ok",
     "timestamp": 1603452711607,
     "user": {
      "displayName": "anton dmitriev",
      "photoUrl": "",
      "userId": "04496317055992149903"
     },
     "user_tz": -180
    },
    "id": "jRwVKp73PKSe"
   },
   "outputs": [],
   "source": [
    "tl.set_backend('pytorch')"
   ]
  },
  {
   "cell_type": "code",
   "execution_count": 89,
   "metadata": {
    "executionInfo": {
     "elapsed": 751,
     "status": "ok",
     "timestamp": 1603452711609,
     "user": {
      "displayName": "anton dmitriev",
      "photoUrl": "",
      "userId": "04496317055992149903"
     },
     "user_tz": -180
    },
    "id": "9_rkIh4LPVpQ"
   },
   "outputs": [],
   "source": [
    "data_dir = '/content/drive/My Drive/study/Skoltech/MTF/Project/data/'"
   ]
  },
  {
   "cell_type": "code",
   "execution_count": 90,
   "metadata": {
    "executionInfo": {
     "elapsed": 805,
     "status": "ok",
     "timestamp": 1603452711828,
     "user": {
      "displayName": "anton dmitriev",
      "photoUrl": "",
      "userId": "04496317055992149903"
     },
     "user_tz": -180
    },
    "id": "9vUiAylMPKSw"
   },
   "outputs": [],
   "source": [
    "BATCH_SIZE = 32"
   ]
  },
  {
   "cell_type": "code",
   "execution_count": 91,
   "metadata": {
    "colab": {
     "base_uri": "https://localhost:8080/",
     "height": 204
    },
    "executionInfo": {
     "elapsed": 652,
     "status": "ok",
     "timestamp": 1603452711830,
     "user": {
      "displayName": "anton dmitriev",
      "photoUrl": "",
      "userId": "04496317055992149903"
     },
     "user_tz": -180
    },
    "id": "QZM_x_XdE27q",
    "outputId": "3fde7eca-55ec-432c-f3aa-f9c4b224261f"
   },
   "outputs": [
    {
     "data": {
      "text/html": [
       "<div>\n",
       "<style scoped>\n",
       "    .dataframe tbody tr th:only-of-type {\n",
       "        vertical-align: middle;\n",
       "    }\n",
       "\n",
       "    .dataframe tbody tr th {\n",
       "        vertical-align: top;\n",
       "    }\n",
       "\n",
       "    .dataframe thead th {\n",
       "        text-align: right;\n",
       "    }\n",
       "</style>\n",
       "<table border=\"1\" class=\"dataframe\">\n",
       "  <thead>\n",
       "    <tr style=\"text-align: right;\">\n",
       "      <th></th>\n",
       "      <th>index</th>\n",
       "      <th>Pregnancies</th>\n",
       "      <th>Glucose</th>\n",
       "      <th>BloodPressure</th>\n",
       "      <th>SkinThickness</th>\n",
       "      <th>Insulin</th>\n",
       "      <th>BMI</th>\n",
       "      <th>DiabetesPedigreeFunction</th>\n",
       "      <th>Age</th>\n",
       "      <th>Outcome</th>\n",
       "    </tr>\n",
       "  </thead>\n",
       "  <tbody>\n",
       "    <tr>\n",
       "      <th>0</th>\n",
       "      <td>203</td>\n",
       "      <td>2</td>\n",
       "      <td>99</td>\n",
       "      <td>70</td>\n",
       "      <td>16</td>\n",
       "      <td>44</td>\n",
       "      <td>20.4</td>\n",
       "      <td>0.235</td>\n",
       "      <td>27</td>\n",
       "      <td>0</td>\n",
       "    </tr>\n",
       "    <tr>\n",
       "      <th>1</th>\n",
       "      <td>497</td>\n",
       "      <td>2</td>\n",
       "      <td>81</td>\n",
       "      <td>72</td>\n",
       "      <td>15</td>\n",
       "      <td>76</td>\n",
       "      <td>30.1</td>\n",
       "      <td>0.547</td>\n",
       "      <td>25</td>\n",
       "      <td>0</td>\n",
       "    </tr>\n",
       "    <tr>\n",
       "      <th>2</th>\n",
       "      <td>601</td>\n",
       "      <td>6</td>\n",
       "      <td>96</td>\n",
       "      <td>0</td>\n",
       "      <td>0</td>\n",
       "      <td>0</td>\n",
       "      <td>23.7</td>\n",
       "      <td>0.190</td>\n",
       "      <td>28</td>\n",
       "      <td>0</td>\n",
       "    </tr>\n",
       "    <tr>\n",
       "      <th>3</th>\n",
       "      <td>400</td>\n",
       "      <td>4</td>\n",
       "      <td>95</td>\n",
       "      <td>64</td>\n",
       "      <td>0</td>\n",
       "      <td>0</td>\n",
       "      <td>32.0</td>\n",
       "      <td>0.161</td>\n",
       "      <td>31</td>\n",
       "      <td>1</td>\n",
       "    </tr>\n",
       "    <tr>\n",
       "      <th>4</th>\n",
       "      <td>582</td>\n",
       "      <td>12</td>\n",
       "      <td>121</td>\n",
       "      <td>78</td>\n",
       "      <td>17</td>\n",
       "      <td>0</td>\n",
       "      <td>26.5</td>\n",
       "      <td>0.259</td>\n",
       "      <td>62</td>\n",
       "      <td>0</td>\n",
       "    </tr>\n",
       "  </tbody>\n",
       "</table>\n",
       "</div>"
      ],
      "text/plain": [
       "   index  Pregnancies  Glucose  ...  DiabetesPedigreeFunction  Age  Outcome\n",
       "0    203            2       99  ...                     0.235   27        0\n",
       "1    497            2       81  ...                     0.547   25        0\n",
       "2    601            6       96  ...                     0.190   28        0\n",
       "3    400            4       95  ...                     0.161   31        1\n",
       "4    582           12      121  ...                     0.259   62        0\n",
       "\n",
       "[5 rows x 10 columns]"
      ]
     },
     "execution_count": 91,
     "metadata": {
      "tags": []
     },
     "output_type": "execute_result"
    }
   ],
   "source": [
    "import pandas as pd\n",
    "data = pd.read_csv(data_dir + 'diabetes.csv').sample(frac=1).reset_index()\n",
    "data.head()"
   ]
  },
  {
   "cell_type": "code",
   "execution_count": 92,
   "metadata": {
    "colab": {
     "base_uri": "https://localhost:8080/",
     "height": 34
    },
    "executionInfo": {
     "elapsed": 757,
     "status": "ok",
     "timestamp": 1603452712060,
     "user": {
      "displayName": "anton dmitriev",
      "photoUrl": "",
      "userId": "04496317055992149903"
     },
     "user_tz": -180
    },
    "id": "g4pj37aA1iOD",
    "outputId": "6d84e708-3046-4464-d5b4-6fd05624275b"
   },
   "outputs": [
    {
     "data": {
      "text/plain": [
       "768"
      ]
     },
     "execution_count": 92,
     "metadata": {
      "tags": []
     },
     "output_type": "execute_result"
    }
   ],
   "source": [
    "len(data)"
   ]
  },
  {
   "cell_type": "code",
   "execution_count": 93,
   "metadata": {
    "executionInfo": {
     "elapsed": 579,
     "status": "ok",
     "timestamp": 1603452712062,
     "user": {
      "displayName": "anton dmitriev",
      "photoUrl": "",
      "userId": "04496317055992149903"
     },
     "user_tz": -180
    },
    "id": "uRY2WeeL0OWV"
   },
   "outputs": [],
   "source": [
    "target = np.matrix(data['Outcome']).T\n",
    "input = np.matrix(data.drop('Outcome', axis=1))\n",
    "\n",
    "train_input = torch.from_numpy(input[:-100]).type(torch.FloatTensor).cuda()\n",
    "train_target = torch.from_numpy(target[:-100]).type(torch.FloatTensor).cuda()\n",
    "\n",
    "test_input = torch.from_numpy(input[-100:]).type(torch.FloatTensor).cuda()\n",
    "test_target = torch.from_numpy(target[-100:]).type(torch.FloatTensor).cuda()"
   ]
  },
  {
   "cell_type": "code",
   "execution_count": 94,
   "metadata": {
    "executionInfo": {
     "elapsed": 650,
     "status": "ok",
     "timestamp": 1603452712385,
     "user": {
      "displayName": "anton dmitriev",
      "photoUrl": "",
      "userId": "04496317055992149903"
     },
     "user_tz": -180
    },
    "id": "3n-SybQ01DfB"
   },
   "outputs": [],
   "source": [
    "train_dataset = torch.utils.data.TensorDataset(train_input, train_target)\n",
    "test_dataset = torch.utils.data.TensorDataset(test_input, test_target)\n",
    "\n",
    "train_loader = DataLoader(train_dataset, batch_size=BATCH_SIZE, shuffle=True)\n",
    "test_loader = DataLoader(test_dataset, batch_size=BATCH_SIZE, shuffle=False)"
   ]
  },
  {
   "cell_type": "markdown",
   "metadata": {
    "id": "wVTOw4hUMgEw"
   },
   "source": [
    "## Model initialisation"
   ]
  },
  {
   "cell_type": "code",
   "execution_count": 101,
   "metadata": {
    "colab": {
     "base_uri": "https://localhost:8080/",
     "height": 34
    },
    "executionInfo": {
     "elapsed": 570,
     "status": "ok",
     "timestamp": 1603452772400,
     "user": {
      "displayName": "anton dmitriev",
      "photoUrl": "",
      "userId": "04496317055992149903"
     },
     "user_tz": -180
    },
    "id": "Vwcd7-u_0Tmk",
    "outputId": "fdd34442-aa79-4672-c3a4-1cec67e0005d"
   },
   "outputs": [
    {
     "name": "stderr",
     "output_type": "stream",
     "text": [
      "/usr/local/lib/python3.6/dist-packages/ipykernel_launcher.py:41: UserWarning: nn.init.xavier_uniform is now deprecated in favor of nn.init.xavier_uniform_.\n"
     ]
    }
   ],
   "source": [
    "NN = TensorNet(3, input.shape[1], target.shape[1], 15).cuda()"
   ]
  },
  {
   "cell_type": "code",
   "execution_count": 102,
   "metadata": {
    "executionInfo": {
     "elapsed": 664,
     "status": "ok",
     "timestamp": 1603452772674,
     "user": {
      "displayName": "anton dmitriev",
      "photoUrl": "",
      "userId": "04496317055992149903"
     },
     "user_tz": -180
    },
    "id": "O40QHZGm0rmu"
   },
   "outputs": [],
   "source": [
    "loss = nn.BCELoss()\n",
    "optimizer = Adam(NN.parameters(), lr=0.001)\n",
    "scheduler = StepLR(optimizer, step_size=5, gamma=0.9)"
   ]
  },
  {
   "cell_type": "code",
   "execution_count": 103,
   "metadata": {
    "executionInfo": {
     "elapsed": 515,
     "status": "ok",
     "timestamp": 1603452772675,
     "user": {
      "displayName": "anton dmitriev",
      "photoUrl": "",
      "userId": "04496317055992149903"
     },
     "user_tz": -180
    },
    "id": "NgHbqdD52WoP"
   },
   "outputs": [],
   "source": [
    "from sklearn.metrics import balanced_accuracy_score, roc_auc_score\n",
    "\n",
    "def balanced_accuracy(Y, Y_hat):\n",
    "    Y_hat[Y_hat > 0.5] = 1\n",
    "    Y_hat[Y_hat <= 0.5] = 0\n",
    "    return balanced_accuracy_score(Y, Y_hat)"
   ]
  },
  {
   "cell_type": "markdown",
   "metadata": {
    "id": "7EFt0yb9MlDX"
   },
   "source": [
    "## Training procedure"
   ]
  },
  {
   "cell_type": "code",
   "execution_count": 104,
   "metadata": {
    "colab": {
     "base_uri": "https://localhost:8080/",
     "height": 1000,
     "referenced_widgets": [
      "fcd7a882bde94c58a81718327e697d68",
      "05f690c596d24b80b3e45920a3525c61",
      "2a83dfdec4d840eca022e83265625ee8",
      "cf45eac9a7ed47788ca19bc5a253e8f3",
      "6ad1ab3263c244c0bd9cebcf2a2acedb",
      "68a0c20a1fc5449483f9adc5ac4e14ae",
      "9f996e94f0204916a167c45e09b25724",
      "fbf2daa072e1481882274c567de5bf94"
     ]
    },
    "executionInfo": {
     "elapsed": 37166,
     "status": "ok",
     "timestamp": 1603452810181,
     "user": {
      "displayName": "anton dmitriev",
      "photoUrl": "",
      "userId": "04496317055992149903"
     },
     "user_tz": -180
    },
    "id": "h6T-5DNS02A_",
    "outputId": "5f7bdef6-4d1d-4592-9e10-74fd308837fd"
   },
   "outputs": [
    {
     "data": {
      "application/vnd.jupyter.widget-view+json": {
       "model_id": "fcd7a882bde94c58a81718327e697d68",
       "version_major": 2,
       "version_minor": 0
      },
      "text/plain": [
       "HBox(children=(FloatProgress(value=0.0, max=200.0), HTML(value='')))"
      ]
     },
     "metadata": {
      "tags": []
     },
     "output_type": "display_data"
    },
    {
     "name": "stdout",
     "output_type": "stream",
     "text": [
      "epoch#9\n",
      "train loss 220.55479278564454\n",
      "val loss 263.86891682942706\n",
      "balanced_accuracy 0.6314338235294117\n",
      "ROC-AUC 0.6314338235294118\n",
      "epoch#19\n",
      "train loss 93.3558391571045\n",
      "val loss 114.11863199869792\n",
      "balanced_accuracy 0.6047794117647058\n",
      "ROC-AUC 0.604779411764706\n",
      "epoch#29\n",
      "train loss 53.672199440002444\n",
      "val loss 66.41472880045573\n",
      "balanced_accuracy 0.5790441176470589\n",
      "ROC-AUC 0.5790441176470589\n",
      "epoch#39\n",
      "train loss 36.990587425231936\n",
      "val loss 46.09224319458008\n",
      "balanced_accuracy 0.5560661764705883\n",
      "ROC-AUC 0.5560661764705882\n",
      "epoch#49\n",
      "train loss 28.544528007507324\n",
      "val loss 35.69538688659668\n",
      "balanced_accuracy 0.6654411764705883\n",
      "ROC-AUC 0.6654411764705883\n",
      "epoch#59\n",
      "train loss 23.70262727737427\n",
      "val loss 29.71533139546712\n",
      "balanced_accuracy 0.6893382352941176\n",
      "ROC-AUC 0.6893382352941176\n",
      "epoch#69\n",
      "train loss 20.674644184112548\n",
      "val loss 25.95618502298991\n",
      "balanced_accuracy 0.6654411764705883\n",
      "ROC-AUC 0.6654411764705883\n",
      "epoch#79\n",
      "train loss 18.655515003204346\n",
      "val loss 23.438289006551106\n",
      "balanced_accuracy 0.7049632352941176\n",
      "ROC-AUC 0.7049632352941176\n",
      "epoch#89\n",
      "train loss 17.23733205795288\n",
      "val loss 21.657140731811523\n",
      "balanced_accuracy 0.7049632352941176\n",
      "ROC-AUC 0.7049632352941176\n",
      "epoch#99\n",
      "train loss 16.212848663330078\n",
      "val loss 20.36805025736491\n",
      "balanced_accuracy 0.7049632352941176\n",
      "ROC-AUC 0.7049632352941176\n",
      "epoch#109\n",
      "train loss 15.431432580947876\n",
      "val loss 19.391969680786133\n",
      "balanced_accuracy 0.7049632352941176\n",
      "ROC-AUC 0.7049632352941176\n",
      "epoch#119\n",
      "train loss 14.829613208770752\n",
      "val loss 18.647515296936035\n",
      "balanced_accuracy 0.7049632352941176\n",
      "ROC-AUC 0.7049632352941176\n",
      "epoch#129\n",
      "train loss 14.368378686904908\n",
      "val loss 18.052921613057453\n",
      "balanced_accuracy 0.7049632352941176\n",
      "ROC-AUC 0.7049632352941176\n",
      "epoch#139\n",
      "train loss 13.9818772315979\n",
      "val loss 17.577975273132324\n",
      "balanced_accuracy 0.7049632352941176\n",
      "ROC-AUC 0.7049632352941176\n",
      "epoch#149\n",
      "train loss 13.67365288734436\n",
      "val loss 17.196460405985516\n",
      "balanced_accuracy 0.7049632352941176\n",
      "ROC-AUC 0.7049632352941176\n",
      "epoch#159\n",
      "train loss 13.42859902381897\n",
      "val loss 16.88328679402669\n",
      "balanced_accuracy 0.7049632352941176\n",
      "ROC-AUC 0.7049632352941176\n",
      "epoch#169\n",
      "train loss 13.219901323318481\n",
      "val loss 16.620989163716633\n",
      "balanced_accuracy 0.7205882352941176\n",
      "ROC-AUC 0.7205882352941175\n",
      "epoch#179\n",
      "train loss 13.050137901306153\n",
      "val loss 16.406487147013348\n",
      "balanced_accuracy 0.7205882352941176\n",
      "ROC-AUC 0.7205882352941175\n",
      "epoch#189\n",
      "train loss 12.902132749557495\n",
      "val loss 16.22009531656901\n",
      "balanced_accuracy 0.7049632352941176\n",
      "ROC-AUC 0.7049632352941176\n",
      "epoch#199\n",
      "train loss 12.783898210525512\n",
      "val loss 16.070847193400066\n",
      "balanced_accuracy 0.7049632352941176\n",
      "ROC-AUC 0.7049632352941176\n",
      "\n"
     ]
    }
   ],
   "source": [
    "hist = NN.fit(train_loader, loss, optimizer, scheduler, 200, test_loader, {'balanced_accuracy': balanced_accuracy, 'ROC-AUC': roc_auc_score})"
   ]
  },
  {
   "cell_type": "markdown",
   "metadata": {
    "id": "Igk5vfkDMop0"
   },
   "source": [
    "## Results visualisation"
   ]
  },
  {
   "cell_type": "code",
   "execution_count": 105,
   "metadata": {
    "colab": {
     "base_uri": "https://localhost:8080/",
     "height": 282
    },
    "executionInfo": {
     "elapsed": 909,
     "status": "ok",
     "timestamp": 1603452813748,
     "user": {
      "displayName": "anton dmitriev",
      "photoUrl": "",
      "userId": "04496317055992149903"
     },
     "user_tz": -180
    },
    "id": "2tcw1Rm84JwN",
    "outputId": "b6d0a623-a8a5-43b0-dca6-d277e8fa2767"
   },
   "outputs": [
    {
     "data": {
      "text/plain": [
       "[<matplotlib.lines.Line2D at 0x7f5b49b07978>]"
      ]
     },
     "execution_count": 105,
     "metadata": {
      "tags": []
     },
     "output_type": "execute_result"
    },
    {
     "data": {
      "image/png": "[encoded data removed]",
      "text/plain": [
       "<Figure size 432x288 with 1 Axes>"
      ]
     },
     "metadata": {
      "needs_background": "light",
      "tags": []
     },
     "output_type": "display_data"
    }
   ],
   "source": [
    "plt.plot(np.arange(len(hist['balanced_accuracy'])), hist['balanced_accuracy'])"
   ]
  },
  {
   "cell_type": "code",
   "execution_count": 106,
   "metadata": {
    "colab": {
     "base_uri": "https://localhost:8080/",
     "height": 282
    },
    "executionInfo": {
     "elapsed": 1179,
     "status": "ok",
     "timestamp": 1603452814162,
     "user": {
      "displayName": "anton dmitriev",
      "photoUrl": "",
      "userId": "04496317055992149903"
     },
     "user_tz": -180
    },
    "id": "D60hj7pY42-J",
    "outputId": "ab19423c-35b6-418b-a507-090832916bc0"
   },
   "outputs": [
    {
     "data": {
      "text/plain": [
       "[<matplotlib.lines.Line2D at 0x7f5b4988d1d0>]"
      ]
     },
     "execution_count": 106,
     "metadata": {
      "tags": []
     },
     "output_type": "execute_result"
    },
    {
     "data": {
      "image/png": "[encoded data removed]",
      "text/plain": [
       "<Figure size 432x288 with 1 Axes>"
      ]
     },
     "metadata": {
      "needs_background": "light",
      "tags": []
     },
     "output_type": "display_data"
    }
   ],
   "source": [
    "plt.plot(np.arange(len(hist['ROC-AUC'])), hist['ROC-AUC'])"
   ]
  },
  {
   "cell_type": "code",
   "execution_count": null,
   "metadata": {
    "id": "HzKBiYWg_38g"
   },
   "outputs": [],
   "source": []
  }
 ],
 "metadata": {
  "accelerator": "GPU",
  "colab": {
   "collapsed_sections": [],
   "name": "Diabetes_tensornetwork.ipynb",
   "provenance": []
  },
  "kernelspec": {
   "display_name": "Python 3",
   "language": "python",
   "name": "python3"
  },
  "language_info": {
   "codemirror_mode": {
    "name": "ipython",
    "version": 3
   },
   "file_extension": ".py",
   "mimetype": "text/x-python",
   "name": "python",
   "nbconvert_exporter": "python",
   "pygments_lexer": "ipython3",
   "version": "3.7.5"
  },
  "widgets": {
   "application/vnd.jupyter.widget-state+json": {
    "05f690c596d24b80b3e45920a3525c61": {
     "model_module": "@jupyter-widgets/base",
     "model_name": "LayoutModel",
     "state": {
      "_model_module": "@jupyter-widgets/base",
      "_model_module_version": "1.2.0",
      "_model_name": "LayoutModel",
      "_view_count": null,
      "_view_module": "@jupyter-widgets/base",
      "_view_module_version": "1.2.0",
      "_view_name": "LayoutView",
      "align_content": null,
      "align_items": null,
      "align_self": null,
      "border": null,
      "bottom": null,
      "display": null,
      "flex": null,
      "flex_flow": null,
      "grid_area": null,
      "grid_auto_columns": null,
      "grid_auto_flow": null,
      "grid_auto_rows": null,
      "grid_column": null,
      "grid_gap": null,
      "grid_row": null,
      "grid_template_areas": null,
      "grid_template_columns": null,
      "grid_template_rows": null,
      "height": null,
      "justify_content": null,
      "justify_items": null,
      "left": null,
      "margin": null,
      "max_height": null,
      "max_width": null,
      "min_height": null,
      "min_width": null,
      "object_fit": null,
      "object_position": null,
      "order": null,
      "overflow": null,
      "overflow_x": null,
      "overflow_y": null,
      "padding": null,
      "right": null,
      "top": null,
      "visibility": null,
      "width": null
     }
    },
    "2a83dfdec4d840eca022e83265625ee8": {
     "model_module": "@jupyter-widgets/controls",
     "model_name": "FloatProgressModel",
     "state": {
      "_dom_classes": [],
      "_model_module": "@jupyter-widgets/controls",
      "_model_module_version": "1.5.0",
      "_model_name": "FloatProgressModel",
      "_view_count": null,
      "_view_module": "@jupyter-widgets/controls",
      "_view_module_version": "1.5.0",
      "_view_name": "ProgressView",
      "bar_style": "success",
      "description": "100%",
      "description_tooltip": null,
      "layout": "IPY_MODEL_68a0c20a1fc5449483f9adc5ac4e14ae",
      "max": 200,
      "min": 0,
      "orientation": "horizontal",
      "style": "IPY_MODEL_6ad1ab3263c244c0bd9cebcf2a2acedb",
      "value": 200
     }
    },
    "68a0c20a1fc5449483f9adc5ac4e14ae": {
     "model_module": "@jupyter-widgets/base",
     "model_name": "LayoutModel",
     "state": {
      "_model_module": "@jupyter-widgets/base",
      "_model_module_version": "1.2.0",
      "_model_name": "LayoutModel",
      "_view_count": null,
      "_view_module": "@jupyter-widgets/base",
      "_view_module_version": "1.2.0",
      "_view_name": "LayoutView",
      "align_content": null,
      "align_items": null,
      "align_self": null,
      "border": null,
      "bottom": null,
      "display": null,
      "flex": null,
      "flex_flow": null,
      "grid_area": null,
      "grid_auto_columns": null,
      "grid_auto_flow": null,
      "grid_auto_rows": null,
      "grid_column": null,
      "grid_gap": null,
      "grid_row": null,
      "grid_template_areas": null,
      "grid_template_columns": null,
      "grid_template_rows": null,
      "height": null,
      "justify_content": null,
      "justify_items": null,
      "left": null,
      "margin": null,
      "max_height": null,
      "max_width": null,
      "min_height": null,
      "min_width": null,
      "object_fit": null,
      "object_position": null,
      "order": null,
      "overflow": null,
      "overflow_x": null,
      "overflow_y": null,
      "padding": null,
      "right": null,
      "top": null,
      "visibility": null,
      "width": null
     }
    },
    "6ad1ab3263c244c0bd9cebcf2a2acedb": {
     "model_module": "@jupyter-widgets/controls",
     "model_name": "ProgressStyleModel",
     "state": {
      "_model_module": "@jupyter-widgets/controls",
      "_model_module_version": "1.5.0",
      "_model_name": "ProgressStyleModel",
      "_view_count": null,
      "_view_module": "@jupyter-widgets/base",
      "_view_module_version": "1.2.0",
      "_view_name": "StyleView",
      "bar_color": null,
      "description_width": "initial"
     }
    },
    "9f996e94f0204916a167c45e09b25724": {
     "model_module": "@jupyter-widgets/controls",
     "model_name": "DescriptionStyleModel",
     "state": {
      "_model_module": "@jupyter-widgets/controls",
      "_model_module_version": "1.5.0",
      "_model_name": "DescriptionStyleModel",
      "_view_count": null,
      "_view_module": "@jupyter-widgets/base",
      "_view_module_version": "1.2.0",
      "_view_name": "StyleView",
      "description_width": ""
     }
    },
    "cf45eac9a7ed47788ca19bc5a253e8f3": {
     "model_module": "@jupyter-widgets/controls",
     "model_name": "HTMLModel",
     "state": {
      "_dom_classes": [],
      "_model_module": "@jupyter-widgets/controls",
      "_model_module_version": "1.5.0",
      "_model_name": "HTMLModel",
      "_view_count": null,
      "_view_module": "@jupyter-widgets/controls",
      "_view_module_version": "1.5.0",
      "_view_name": "HTMLView",
      "description": "",
      "description_tooltip": null,
      "layout": "IPY_MODEL_fbf2daa072e1481882274c567de5bf94",
      "placeholder": "​",
      "style": "IPY_MODEL_9f996e94f0204916a167c45e09b25724",
      "value": " 200/200 [00:36&lt;00:00,  5.47it/s]"
     }
    },
    "fbf2daa072e1481882274c567de5bf94": {
     "model_module": "@jupyter-widgets/base",
     "model_name": "LayoutModel",
     "state": {
      "_model_module": "@jupyter-widgets/base",
      "_model_module_version": "1.2.0",
      "_model_name": "LayoutModel",
      "_view_count": null,
      "_view_module": "@jupyter-widgets/base",
      "_view_module_version": "1.2.0",
      "_view_name": "LayoutView",
      "align_content": null,
      "align_items": null,
      "align_self": null,
      "border": null,
      "bottom": null,
      "display": null,
      "flex": null,
      "flex_flow": null,
      "grid_area": null,
      "grid_auto_columns": null,
      "grid_auto_flow": null,
      "grid_auto_rows": null,
      "grid_column": null,
      "grid_gap": null,
      "grid_row": null,
      "grid_template_areas": null,
      "grid_template_columns": null,
      "grid_template_rows": null,
      "height": null,
      "justify_content": null,
      "justify_items": null,
      "left": null,
      "margin": null,
      "max_height": null,
      "max_width": null,
      "min_height": null,
      "min_width": null,
      "object_fit": null,
      "object_position": null,
      "order": null,
      "overflow": null,
      "overflow_x": null,
      "overflow_y": null,
      "padding": null,
      "right": null,
      "top": null,
      "visibility": null,
      "width": null
     }
    },
    "fcd7a882bde94c58a81718327e697d68": {
     "model_module": "@jupyter-widgets/controls",
     "model_name": "HBoxModel",
     "state": {
      "_dom_classes": [],
      "_model_module": "@jupyter-widgets/controls",
      "_model_module_version": "1.5.0",
      "_model_name": "HBoxModel",
      "_view_count": null,
      "_view_module": "@jupyter-widgets/controls",
      "_view_module_version": "1.5.0",
      "_view_name": "HBoxView",
      "box_style": "",
      "children": [
       "IPY_MODEL_2a83dfdec4d840eca022e83265625ee8",
       "IPY_MODEL_cf45eac9a7ed47788ca19bc5a253e8f3"
      ],
      "layout": "IPY_MODEL_05f690c596d24b80b3e45920a3525c61"
     }
    }
   }
  }
 },
 "nbformat": 4,
 "nbformat_minor": 1
}
