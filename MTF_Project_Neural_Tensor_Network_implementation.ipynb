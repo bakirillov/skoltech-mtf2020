{
 "cells": [
  {
   "cell_type": "code",
   "execution_count": null,
   "metadata": {
    "colab": {
     "base_uri": "https://localhost:8080/",
     "height": 278
    },
    "id": "MPaKZLGNcsOe",
    "outputId": "04637d3c-768b-47c4-cdf7-17979d212ca4"
   },
   "outputs": [
    {
     "name": "stdout",
     "output_type": "stream",
     "text": [
      "Collecting tensorly\n",
      "\u001b[?25l  Downloading https://files.pythonhosted.org/packages/37/d6/8ddeec3d840635b78fdb1ed8f3dae938553b0a38c245b9c59845e89e4c2b/tensorly-0.4.5.tar.gz (70kB)\n",
      "\u001b[K     |████████████████████████████████| 71kB 2.0MB/s \n",
      "\u001b[?25hRequirement already satisfied: numpy in /usr/local/lib/python3.6/dist-packages (from tensorly) (1.18.5)\n",
      "Requirement already satisfied: scipy in /usr/local/lib/python3.6/dist-packages (from tensorly) (1.4.1)\n",
      "Collecting nose\n",
      "\u001b[?25l  Downloading https://files.pythonhosted.org/packages/15/d8/dd071918c040f50fa1cf80da16423af51ff8ce4a0f2399b7bf8de45ac3d9/nose-1.3.7-py3-none-any.whl (154kB)\n",
      "\u001b[K     |████████████████████████████████| 163kB 7.0MB/s \n",
      "\u001b[?25hBuilding wheels for collected packages: tensorly\n",
      "  Building wheel for tensorly (setup.py) ... \u001b[?25l\u001b[?25hdone\n",
      "  Created wheel for tensorly: filename=tensorly-0.4.5-cp36-none-any.whl size=100156 sha256=12b0f798180dbc63c772d64727db10a36a7ad68f83d6fba4ce62c6e15f90f466\n",
      "  Stored in directory: /root/.cache/pip/wheels/44/ae/02/8d00229a4fd0af192b48d24da903f9975c7ac10e706685fc39\n",
      "Successfully built tensorly\n",
      "Installing collected packages: nose, tensorly\n",
      "Successfully installed nose-1.3.7 tensorly-0.4.5\n"
     ]
    }
   ],
   "source": [
    "!pip install tensorly"
   ]
  },
  {
   "cell_type": "code",
   "execution_count": null,
   "metadata": {
    "id": "yj83Sop5bWfO"
   },
   "outputs": [],
   "source": [
    "import numpy as np\n",
    "import matplotlib.pyplot as plt\n",
    "import torch\n",
    "from torch import nn\n",
    "from tqdm.notebook import tqdm\n",
    "\n",
    "import tensorly as tl\n",
    "from tensorly.random import random_tucker\n",
    "from tensorly.tucker_tensor import tucker_to_tensor\n",
    "\n",
    "tl.set_backend('pytorch')"
   ]
  },
  {
   "cell_type": "code",
   "execution_count": null,
   "metadata": {
    "colab": {
     "base_uri": "https://localhost:8080/",
     "height": 34
    },
    "id": "qlMTqFGPbja2",
    "outputId": "813b2d42-d972-4d52-891c-5b61a0b70c4d"
   },
   "outputs": [
    {
     "name": "stdout",
     "output_type": "stream",
     "text": [
      "Mounted at /content/drive\n"
     ]
    }
   ],
   "source": [
    "from google.colab import drive\n",
    "\n",
    "drive.mount('/content/drive')"
   ]
  },
  {
   "cell_type": "code",
   "execution_count": null,
   "metadata": {
    "id": "LNbRQtambWfY"
   },
   "outputs": [],
   "source": [
    "class NeuralTensorLayer(torch.nn.Module):\n",
    "    \n",
    "    \"\"\"\n",
    "    This is the class for \n",
    "    \"\"\"\n",
    "    \n",
    "    def __init__(self, order, input_dim, output_dim, rank_tucker=-1,\n",
    "                 initializer=torch.nn.init.xavier_uniform):\n",
    "        \n",
    "        super(NeuralTensorLayer, self).__init__()\n",
    "        \n",
    "        self.order = order\n",
    "        self.rank_tucker = rank_tucker\n",
    "        \n",
    "        if order > 3 or order < 1:\n",
    "            raise Exception('Order must be in range [1, 3]')\n",
    "            \n",
    "        if rank_tucker != -1 and rank_tucker < 1:\n",
    "            raise Exception('Tucker rank must be -1 or greater than 0 integer')\n",
    "            \n",
    "        self.input_dim = input_dim\n",
    "        self.output_dim = output_dim\n",
    "        \n",
    "        self.bias = nn.Parameter(torch.zeros((1, output_dim)), requires_grad=True)\n",
    "        initializer(self.bias)\n",
    "        \n",
    "        self.myparameters = torch.nn.ParameterList([self.bias])\n",
    "        \n",
    "        self.order1_tens = self.initialize_n_order_tensor(1, initializer)\n",
    "        \n",
    "        if order >= 2:\n",
    "            self.order2_tens = self.initialize_n_order_tensor(2, initializer)\n",
    "            \n",
    "        if order == 3:\n",
    "            self.order3_tens = self.initialize_n_order_tensor(3, initializer)\n",
    "        \n",
    "    # initialize tensor in full or in decomposed form and register it as parameter\n",
    "    def initialize_n_order_tensor(self, order, initializer):\n",
    "        \n",
    "        if self.rank_tucker >= 1:\n",
    "            \n",
    "            dim_list = [self.input_dim] * order + [self.output_dim]\n",
    "            tens_core, factors = random_tucker(dim_list, self.rank_tucker)\n",
    "            tens_core = nn.Parameter(tens_core, requires_grad=True)\n",
    "            factors = [nn.Parameter(fact, requires_grad=True) for fact in factors]\n",
    "            \n",
    "            self.myparameters.append(tens_core)\n",
    "            for fact in factors:\n",
    "                self.myparameters.append(fact)\n",
    "                \n",
    "            return (tens_core, factors)\n",
    "            \n",
    "        else:\n",
    "            \n",
    "            dim_list = [self.input_dim] * order + [self.output_dim]\n",
    "            var = nn.Parameter(torch.zeros(dim_list), requires_grad=True)\n",
    "            initializer(var)\n",
    "            self.myparameters.append(var)\n",
    "            \n",
    "            return var\n",
    "\n",
    "    def compute_result_for_vec(self, core, factor_inp, last_factor): # result dim (1, 1)\n",
    "        result = core\n",
    "        for i in range(len(factor_inp)):\n",
    "            result = tl.tenalg.mode_dot(result, factor_inp[i], i)\n",
    "        result = result.view(1, -1).mm(torch.transpose(last_factor, 0, 1))\n",
    "        return result.view(-1)\n",
    "\n",
    "    def mode_n_dot_accelerated(self, core, factors, input):\n",
    "\n",
    "        new_factors = [torch.transpose(factors[i], 0, 1).mm(input) for i in range(len(factors) - 1)]\n",
    "\n",
    "        return torch.stack([\n",
    "                            self.compute_result_for_vec(core, \n",
    "                                                        [new_factors[k][:, i] for k in range(len(factors) - 1)], factors[-1]) \n",
    "                            for i in range(input.shape[1])\n",
    "                            ], dim=0)\n",
    "        \n",
    "    def forward(self, X, transposed=False):\n",
    "        \n",
    "        X = torch.Tensor(X)\n",
    "        \n",
    "        if self.rank_tucker == -1:\n",
    "            result = torch.addmm(self.bias, X, self.order1_tens)\n",
    "        else:\n",
    "            result = torch.addmm(self.bias, X, tucker_to_tensor(self.order1_tens))\n",
    "        \n",
    "        if self.order >= 2:\n",
    "            \n",
    "            if self.rank_tucker == -1:      \n",
    "                acc = tl.tenalg.mode_dot(self.order2_tens, X, 0)\n",
    "            else:\n",
    "                acc = tl.tenalg.mode_dot(tucker_to_tensor(self.order2_tens), X, 0)\n",
    "\n",
    "            acc = tl.tenalg.mode_dot(acc, X, 1)\n",
    "            result += torch.einsum('iik->ik', acc)\n",
    "        \n",
    "        if self.order == 3:\n",
    "             \n",
    "            if self.rank_tucker == -1:      \n",
    "                acc = tl.tenalg.mode_dot(self.order3_tens, X, 0)\n",
    "            else:\n",
    "                acc = tl.tenalg.mode_dot(tucker_to_tensor(self.order3_tens), X, 0)\n",
    "            \n",
    "            acc = tl.tenalg.mode_dot(acc, X, 1)\n",
    "            acc = tl.tenalg.mode_dot(acc, X, 2)\n",
    "            result += torch.einsum('iiik->ik', acc)\n",
    "        \n",
    "        res = result.reshape((X.shape[0], self.output_dim))\n",
    "        return res"
   ]
  },
  {
   "cell_type": "code",
   "execution_count": null,
   "metadata": {
    "id": "DNHChawubWfh"
   },
   "outputs": [],
   "source": [
    "def func(a, b, c, data):\n",
    "    return a * data[:, 0] + b * data[:, 1] + c\n",
    "\n",
    "def generate_linear_data(N, a, b, c, noise):\n",
    "    inp = np.random.randn(N, 2)\n",
    "    vals = func(a, b, c, inp) + np.random.randn(N) * noise\n",
    "    return inp, vals\n",
    "\n",
    "data = generate_linear_data(2000, 0.3, 4, 40, 10)"
   ]
  },
  {
   "cell_type": "code",
   "execution_count": null,
   "metadata": {
    "id": "uZGKqmfzbWfo"
   },
   "outputs": [],
   "source": [
    "import pandas as pd"
   ]
  },
  {
   "cell_type": "code",
   "execution_count": null,
   "metadata": {
    "id": "MuzS0tkDcB1W"
   },
   "outputs": [],
   "source": [
    "dir = '/content/drive/My Drive/study/Skoltech/MTF/Project/'"
   ]
  },
  {
   "cell_type": "code",
   "execution_count": null,
   "metadata": {
    "colab": {
     "base_uri": "https://localhost:8080/",
     "height": 206
    },
    "id": "WNHAutbsbWfu",
    "outputId": "48bdb119-1f7d-4c51-d035-7e41e2b8c4de"
   },
   "outputs": [
    {
     "data": {
      "text/html": [
       "<div>\n",
       "<style scoped>\n",
       "    .dataframe tbody tr th:only-of-type {\n",
       "        vertical-align: middle;\n",
       "    }\n",
       "\n",
       "    .dataframe tbody tr th {\n",
       "        vertical-align: top;\n",
       "    }\n",
       "\n",
       "    .dataframe thead th {\n",
       "        text-align: right;\n",
       "    }\n",
       "</style>\n",
       "<table border=\"1\" class=\"dataframe\">\n",
       "  <thead>\n",
       "    <tr style=\"text-align: right;\">\n",
       "      <th></th>\n",
       "      <th>Pregnancies</th>\n",
       "      <th>Glucose</th>\n",
       "      <th>BloodPressure</th>\n",
       "      <th>SkinThickness</th>\n",
       "      <th>Insulin</th>\n",
       "      <th>BMI</th>\n",
       "      <th>DiabetesPedigreeFunction</th>\n",
       "      <th>Age</th>\n",
       "      <th>Outcome</th>\n",
       "    </tr>\n",
       "  </thead>\n",
       "  <tbody>\n",
       "    <tr>\n",
       "      <th>0</th>\n",
       "      <td>6</td>\n",
       "      <td>148</td>\n",
       "      <td>72</td>\n",
       "      <td>35</td>\n",
       "      <td>0</td>\n",
       "      <td>33.6</td>\n",
       "      <td>0.627</td>\n",
       "      <td>50</td>\n",
       "      <td>1</td>\n",
       "    </tr>\n",
       "    <tr>\n",
       "      <th>1</th>\n",
       "      <td>1</td>\n",
       "      <td>85</td>\n",
       "      <td>66</td>\n",
       "      <td>29</td>\n",
       "      <td>0</td>\n",
       "      <td>26.6</td>\n",
       "      <td>0.351</td>\n",
       "      <td>31</td>\n",
       "      <td>0</td>\n",
       "    </tr>\n",
       "    <tr>\n",
       "      <th>2</th>\n",
       "      <td>8</td>\n",
       "      <td>183</td>\n",
       "      <td>64</td>\n",
       "      <td>0</td>\n",
       "      <td>0</td>\n",
       "      <td>23.3</td>\n",
       "      <td>0.672</td>\n",
       "      <td>32</td>\n",
       "      <td>1</td>\n",
       "    </tr>\n",
       "    <tr>\n",
       "      <th>3</th>\n",
       "      <td>1</td>\n",
       "      <td>89</td>\n",
       "      <td>66</td>\n",
       "      <td>23</td>\n",
       "      <td>94</td>\n",
       "      <td>28.1</td>\n",
       "      <td>0.167</td>\n",
       "      <td>21</td>\n",
       "      <td>0</td>\n",
       "    </tr>\n",
       "    <tr>\n",
       "      <th>4</th>\n",
       "      <td>0</td>\n",
       "      <td>137</td>\n",
       "      <td>40</td>\n",
       "      <td>35</td>\n",
       "      <td>168</td>\n",
       "      <td>43.1</td>\n",
       "      <td>2.288</td>\n",
       "      <td>33</td>\n",
       "      <td>1</td>\n",
       "    </tr>\n",
       "  </tbody>\n",
       "</table>\n",
       "</div>"
      ],
      "text/plain": [
       "   Pregnancies  Glucose  BloodPressure  ...  DiabetesPedigreeFunction  Age  Outcome\n",
       "0            6      148             72  ...                     0.627   50        1\n",
       "1            1       85             66  ...                     0.351   31        0\n",
       "2            8      183             64  ...                     0.672   32        1\n",
       "3            1       89             66  ...                     0.167   21        0\n",
       "4            0      137             40  ...                     2.288   33        1\n",
       "\n",
       "[5 rows x 9 columns]"
      ]
     },
     "execution_count": 397,
     "metadata": {
      "tags": []
     },
     "output_type": "execute_result"
    }
   ],
   "source": [
    "data = pd.read_csv(dir + 'diabetes.csv')\n",
    "data.head()"
   ]
  },
  {
   "cell_type": "code",
   "execution_count": null,
   "metadata": {
    "id": "uoHOEinsbWf1"
   },
   "outputs": [],
   "source": [
    "target = np.matrix(data['Outcome']).T\n",
    "data = np.matrix(data.drop('Outcome', axis=1))"
   ]
  },
  {
   "cell_type": "code",
   "execution_count": null,
   "metadata": {
    "id": "ekQNXtcEbWf7"
   },
   "outputs": [],
   "source": [
    "input_dim = data.shape[1]\n",
    "output_dim = 1"
   ]
  },
  {
   "cell_type": "code",
   "execution_count": null,
   "metadata": {
    "colab": {
     "base_uri": "https://localhost:8080/",
     "height": 34
    },
    "id": "Zp9Ujj4YbWgA",
    "outputId": "bfd491d8-af6b-4690-966e-fbccbe078471",
    "scrolled": true
   },
   "outputs": [
    {
     "data": {
      "text/plain": [
       "8"
      ]
     },
     "execution_count": 400,
     "metadata": {
      "tags": []
     },
     "output_type": "execute_result"
    }
   ],
   "source": [
    "input_dim"
   ]
  },
  {
   "cell_type": "code",
   "execution_count": null,
   "metadata": {
    "colab": {
     "base_uri": "https://localhost:8080/",
     "height": 34
    },
    "id": "ghxVMNA1bWgD",
    "outputId": "5f4876af-8645-4fd6-9828-90efcc57d852"
   },
   "outputs": [
    {
     "name": "stderr",
     "output_type": "stream",
     "text": [
      "/usr/local/lib/python3.6/dist-packages/ipykernel_launcher.py:25: UserWarning: nn.init.xavier_uniform is now deprecated in favor of nn.init.xavier_uniform_.\n"
     ]
    }
   ],
   "source": [
    "NN = torch.nn.Sequential(NeuralTensorLayer(2, input_dim, 2, rank_tucker=5), \n",
    "                         nn.BatchNorm1d(2),\n",
    "                         nn.Softmax(dim=-1))"
   ]
  },
  {
   "cell_type": "code",
   "execution_count": null,
   "metadata": {
    "id": "WaOzIf9WbWgJ"
   },
   "outputs": [],
   "source": [
    "loss = torch.nn.CrossEntropyLoss()"
   ]
  },
  {
   "cell_type": "code",
   "execution_count": null,
   "metadata": {
    "colab": {
     "base_uri": "https://localhost:8080/",
     "height": 295
    },
    "id": "7reUlEy2bWgN",
    "outputId": "6ee92b85-155d-4c4f-c5db-9a8f442cc19a"
   },
   "outputs": [
    {
     "data": {
      "text/plain": [
       "Sequential(\n",
       "  (0): NeuralTensorLayer(\n",
       "    (myparameters): ParameterList(\n",
       "        (0): Parameter containing: [torch.FloatTensor of size 1x2]\n",
       "        (1): Parameter containing: [torch.FloatTensor of size 5x5]\n",
       "        (2): Parameter containing: [torch.FloatTensor of size 8x5]\n",
       "        (3): Parameter containing: [torch.FloatTensor of size 2x5]\n",
       "        (4): Parameter containing: [torch.FloatTensor of size 5x5x5]\n",
       "        (5): Parameter containing: [torch.FloatTensor of size 8x5]\n",
       "        (6): Parameter containing: [torch.FloatTensor of size 8x5]\n",
       "        (7): Parameter containing: [torch.FloatTensor of size 2x5]\n",
       "    )\n",
       "  )\n",
       "  (1): BatchNorm1d(2, eps=1e-05, momentum=0.1, affine=True, track_running_stats=True)\n",
       "  (2): Softmax(dim=-1)\n",
       ")"
      ]
     },
     "execution_count": 403,
     "metadata": {
      "tags": []
     },
     "output_type": "execute_result"
    }
   ],
   "source": [
    "NN"
   ]
  },
  {
   "cell_type": "code",
   "execution_count": null,
   "metadata": {
    "id": "TryI_eGSbWgT"
   },
   "outputs": [],
   "source": [
    "optimizer = torch.optim.Adam(NN.parameters(), lr=0.001)"
   ]
  },
  {
   "cell_type": "code",
   "execution_count": null,
   "metadata": {
    "colab": {
     "base_uri": "https://localhost:8080/",
     "height": 34
    },
    "id": "vH4RdwCgc5lZ",
    "outputId": "62b6876a-15e0-43f2-dfc9-5e1596d9f7ba"
   },
   "outputs": [
    {
     "data": {
      "text/plain": [
       "True"
      ]
     },
     "execution_count": 405,
     "metadata": {
      "tags": []
     },
     "output_type": "execute_result"
    }
   ],
   "source": [
    "torch.cuda.is_available()"
   ]
  },
  {
   "cell_type": "code",
   "execution_count": null,
   "metadata": {
    "colab": {
     "base_uri": "https://localhost:8080/",
     "height": 240,
     "referenced_widgets": [
      "5ba30be59c534e8b9b76ea646c9c2a3e",
      "69834ae8bacf479b86dc3e6591471b9e",
      "0c2fae42d6c64a38b1c12cf083066eb1",
      "5bd6119880074bc2895ddc53bf0a168d",
      "7bd7977b5c8b486ebb3c2c4c40189bf9",
      "4fba9bb3dcb84175b70d3df03ee9adc5",
      "fa00d24a807248e6a5d042371f14c159",
      "aa7858a2c32f4489b105c0a140e11dd7"
     ]
    },
    "id": "_o3_CxSNbWgX",
    "outputId": "2f187319-e9ff-45ba-a007-88a4b0f5134f"
   },
   "outputs": [
    {
     "data": {
      "application/vnd.jupyter.widget-view+json": {
       "model_id": "5ba30be59c534e8b9b76ea646c9c2a3e",
       "version_major": 2,
       "version_minor": 0
      },
      "text/plain": [
       "HBox(children=(FloatProgress(value=0.0, max=1000.0), HTML(value='')))"
      ]
     },
     "metadata": {
      "tags": []
     },
     "output_type": "display_data"
    },
    {
     "name": "stdout",
     "output_type": "stream",
     "text": [
      "tensor(0.6921, grad_fn=<NllLossBackward>)\n",
      "tensor(0.5253, grad_fn=<NllLossBackward>)\n",
      "tensor(0.5261, grad_fn=<NllLossBackward>)\n",
      "tensor(0.5254, grad_fn=<NllLossBackward>)\n",
      "tensor(0.5241, grad_fn=<NllLossBackward>)\n",
      "tensor(0.5209, grad_fn=<NllLossBackward>)\n",
      "tensor(0.5150, grad_fn=<NllLossBackward>)\n",
      "tensor(0.5056, grad_fn=<NllLossBackward>)\n",
      "tensor(0.4804, grad_fn=<NllLossBackward>)\n",
      "tensor(0.4694, grad_fn=<NllLossBackward>)\n",
      "\n"
     ]
    }
   ],
   "source": [
    "num_iter = 1000\n",
    "batch_size = 100\n",
    "errors = []\n",
    "batch_count = len(data) // batch_size if len(data) % batch_size == 0 else len(data) // batch_size + 1\n",
    "\n",
    "for i in tqdm(range(num_iter)):\n",
    "    \n",
    "    mean_loss = 0\n",
    "    \n",
    "    for batch in range(batch_count):\n",
    "        \n",
    "        inp = torch.Tensor(data[batch * batch_size:(batch + 1) * batch_size])\n",
    "        tar = torch.Tensor(target[batch * batch_size:(batch + 1) * batch_size]).type(torch.long)\n",
    "    \n",
    "        optimizer.zero_grad()\n",
    "        output = NN(inp)\n",
    "        loss_val = loss(output, torch.flatten(tar))\n",
    "        loss_val.backward()\n",
    "        optimizer.step()\n",
    "        \n",
    "        mean_loss += loss_val\n",
    "        \n",
    "    errors.append(mean_loss / batch_count)\n",
    "        \n",
    "    if i % 100 == 0:\n",
    "        print(loss_val)"
   ]
  },
  {
   "cell_type": "code",
   "execution_count": null,
   "metadata": {
    "id": "RqJ1WjQh5LLX"
   },
   "outputs": [],
   "source": [
    "A = torch.randn(3, 3, 4)\n",
    "torch.einsum('iik->ik', A)"
   ]
  },
  {
   "cell_type": "code",
   "execution_count": null,
   "metadata": {
    "id": "E3Pn5mLw5Nui"
   },
   "outputs": [],
   "source": [
    "A[1, 1]"
   ]
  },
  {
   "cell_type": "code",
   "execution_count": null,
   "metadata": {
    "id": "ZccycHzsbWgc"
   },
   "outputs": [],
   "source": [
    "plt.figure(figsize=(15, 15))\n",
    "plt.plot(np.arange(len(errors)), errors)"
   ]
  },
  {
   "cell_type": "code",
   "execution_count": null,
   "metadata": {
    "id": "mXA4j-bJeASs"
   },
   "outputs": [],
   "source": [
    "inp = torch.Tensor(data)\n",
    "tar = torch.Tensor(target).type(torch.long).reshape(target.shape[0])"
   ]
  },
  {
   "cell_type": "code",
   "execution_count": null,
   "metadata": {
    "id": "UmxD4VZzeKcN"
   },
   "outputs": [],
   "source": [
    "output = NN(inp)"
   ]
  },
  {
   "cell_type": "code",
   "execution_count": null,
   "metadata": {
    "colab": {
     "base_uri": "https://localhost:8080/",
     "height": 34
    },
    "id": "zVajus7leiud",
    "outputId": "92f77060-2474-4fba-cf0d-4302965d4750"
   },
   "outputs": [
    {
     "data": {
      "text/plain": [
       "0.7877604166666666"
      ]
     },
     "execution_count": 26,
     "metadata": {
      "tags": []
     },
     "output_type": "execute_result"
    }
   ],
   "source": [
    "(output.argmax(axis=1) == tar).sum().item() / len(tar)"
   ]
  },
  {
   "cell_type": "markdown",
   "metadata": {
    "id": "4Li7OjFdbWgh"
   },
   "source": [
    "# Now, when the NN is ready, we can think about low rank approximation approaches"
   ]
  },
  {
   "cell_type": "code",
   "execution_count": null,
   "metadata": {
    "id": "RLqefqfVbWgi",
    "outputId": "a8d44229-0d1b-46fc-d24c-64ff2c305e3f"
   },
   "outputs": [
    {
     "data": {
      "text/plain": [
       "(tensor([[0.5533, 0.2749, 0.2266, 0.3726, 0.6167],\n",
       "         [0.1750, 0.2642, 0.8940, 0.2651, 0.1726],\n",
       "         [0.3079, 0.4410, 0.6247, 0.3316, 0.3537],\n",
       "         [0.0400, 0.1314, 0.5639, 0.3560, 0.8727],\n",
       "         [0.6288, 0.1125, 0.6745, 0.5497, 0.3638]]),\n",
       " [tensor([[0.2792, 0.2677, 0.4475, 0.5355, 0.4844],\n",
       "          [0.4759, 0.7013, 0.8256, 0.5355, 0.3042],\n",
       "          [0.4108, 0.0907, 0.1525, 0.9658, 0.4803],\n",
       "          [0.4368, 0.6058, 0.6352, 0.3549, 0.5398],\n",
       "          [0.9099, 0.6247, 0.7035, 0.8182, 0.9224],\n",
       "          [0.2291, 0.8454, 0.9994, 0.4533, 0.6601],\n",
       "          [0.8346, 0.6404, 0.1583, 0.1318, 0.9663],\n",
       "          [0.9368, 0.7839, 0.4672, 0.3892, 0.7628]]),\n",
       "  tensor([[0.7744, 0.1758, 0.2186, 0.1950, 0.3399]])])"
      ]
     },
     "execution_count": 637,
     "metadata": {
      "tags": []
     },
     "output_type": "execute_result"
    }
   ],
   "source": [
    "random_tucker([8, 1], 5)"
   ]
  },
  {
   "cell_type": "code",
   "execution_count": null,
   "metadata": {
    "id": "TDhS8TG2bWgn"
   },
   "outputs": [],
   "source": []
  }
 ],
 "metadata": {
  "accelerator": "GPU",
  "colab": {
   "name": "MTF Project Neural Tensor Network implementation.ipynb",
   "provenance": []
  },
  "kernelspec": {
   "display_name": "Python 3",
   "language": "python",
   "name": "python3"
  },
  "language_info": {
   "codemirror_mode": {
    "name": "ipython",
    "version": 3
   },
   "file_extension": ".py",
   "mimetype": "text/x-python",
   "name": "python",
   "nbconvert_exporter": "python",
   "pygments_lexer": "ipython3",
   "version": "3.8.5"
  },
  "widgets": {
   "application/vnd.jupyter.widget-state+json": {
    "0c2fae42d6c64a38b1c12cf083066eb1": {
     "model_module": "@jupyter-widgets/controls",
     "model_name": "FloatProgressModel",
     "state": {
      "_dom_classes": [],
      "_model_module": "@jupyter-widgets/controls",
      "_model_module_version": "1.5.0",
      "_model_name": "FloatProgressModel",
      "_view_count": null,
      "_view_module": "@jupyter-widgets/controls",
      "_view_module_version": "1.5.0",
      "_view_name": "ProgressView",
      "bar_style": "success",
      "description": "100%",
      "description_tooltip": null,
      "layout": "IPY_MODEL_4fba9bb3dcb84175b70d3df03ee9adc5",
      "max": 1000,
      "min": 0,
      "orientation": "horizontal",
      "style": "IPY_MODEL_7bd7977b5c8b486ebb3c2c4c40189bf9",
      "value": 1000
     }
    },
    "4fba9bb3dcb84175b70d3df03ee9adc5": {
     "model_module": "@jupyter-widgets/base",
     "model_name": "LayoutModel",
     "state": {
      "_model_module": "@jupyter-widgets/base",
      "_model_module_version": "1.2.0",
      "_model_name": "LayoutModel",
      "_view_count": null,
      "_view_module": "@jupyter-widgets/base",
      "_view_module_version": "1.2.0",
      "_view_name": "LayoutView",
      "align_content": null,
      "align_items": null,
      "align_self": null,
      "border": null,
      "bottom": null,
      "display": null,
      "flex": null,
      "flex_flow": null,
      "grid_area": null,
      "grid_auto_columns": null,
      "grid_auto_flow": null,
      "grid_auto_rows": null,
      "grid_column": null,
      "grid_gap": null,
      "grid_row": null,
      "grid_template_areas": null,
      "grid_template_columns": null,
      "grid_template_rows": null,
      "height": null,
      "justify_content": null,
      "justify_items": null,
      "left": null,
      "margin": null,
      "max_height": null,
      "max_width": null,
      "min_height": null,
      "min_width": null,
      "object_fit": null,
      "object_position": null,
      "order": null,
      "overflow": null,
      "overflow_x": null,
      "overflow_y": null,
      "padding": null,
      "right": null,
      "top": null,
      "visibility": null,
      "width": null
     }
    },
    "5ba30be59c534e8b9b76ea646c9c2a3e": {
     "model_module": "@jupyter-widgets/controls",
     "model_name": "HBoxModel",
     "state": {
      "_dom_classes": [],
      "_model_module": "@jupyter-widgets/controls",
      "_model_module_version": "1.5.0",
      "_model_name": "HBoxModel",
      "_view_count": null,
      "_view_module": "@jupyter-widgets/controls",
      "_view_module_version": "1.5.0",
      "_view_name": "HBoxView",
      "box_style": "",
      "children": [
       "IPY_MODEL_0c2fae42d6c64a38b1c12cf083066eb1",
       "IPY_MODEL_5bd6119880074bc2895ddc53bf0a168d"
      ],
      "layout": "IPY_MODEL_69834ae8bacf479b86dc3e6591471b9e"
     }
    },
    "5bd6119880074bc2895ddc53bf0a168d": {
     "model_module": "@jupyter-widgets/controls",
     "model_name": "HTMLModel",
     "state": {
      "_dom_classes": [],
      "_model_module": "@jupyter-widgets/controls",
      "_model_module_version": "1.5.0",
      "_model_name": "HTMLModel",
      "_view_count": null,
      "_view_module": "@jupyter-widgets/controls",
      "_view_module_version": "1.5.0",
      "_view_name": "HTMLView",
      "description": "",
      "description_tooltip": null,
      "layout": "IPY_MODEL_aa7858a2c32f4489b105c0a140e11dd7",
      "placeholder": "​",
      "style": "IPY_MODEL_fa00d24a807248e6a5d042371f14c159",
      "value": " 1000/1000 [00:18&lt;00:00, 52.66it/s]"
     }
    },
    "69834ae8bacf479b86dc3e6591471b9e": {
     "model_module": "@jupyter-widgets/base",
     "model_name": "LayoutModel",
     "state": {
      "_model_module": "@jupyter-widgets/base",
      "_model_module_version": "1.2.0",
      "_model_name": "LayoutModel",
      "_view_count": null,
      "_view_module": "@jupyter-widgets/base",
      "_view_module_version": "1.2.0",
      "_view_name": "LayoutView",
      "align_content": null,
      "align_items": null,
      "align_self": null,
      "border": null,
      "bottom": null,
      "display": null,
      "flex": null,
      "flex_flow": null,
      "grid_area": null,
      "grid_auto_columns": null,
      "grid_auto_flow": null,
      "grid_auto_rows": null,
      "grid_column": null,
      "grid_gap": null,
      "grid_row": null,
      "grid_template_areas": null,
      "grid_template_columns": null,
      "grid_template_rows": null,
      "height": null,
      "justify_content": null,
      "justify_items": null,
      "left": null,
      "margin": null,
      "max_height": null,
      "max_width": null,
      "min_height": null,
      "min_width": null,
      "object_fit": null,
      "object_position": null,
      "order": null,
      "overflow": null,
      "overflow_x": null,
      "overflow_y": null,
      "padding": null,
      "right": null,
      "top": null,
      "visibility": null,
      "width": null
     }
    },
    "7bd7977b5c8b486ebb3c2c4c40189bf9": {
     "model_module": "@jupyter-widgets/controls",
     "model_name": "ProgressStyleModel",
     "state": {
      "_model_module": "@jupyter-widgets/controls",
      "_model_module_version": "1.5.0",
      "_model_name": "ProgressStyleModel",
      "_view_count": null,
      "_view_module": "@jupyter-widgets/base",
      "_view_module_version": "1.2.0",
      "_view_name": "StyleView",
      "bar_color": null,
      "description_width": "initial"
     }
    },
    "aa7858a2c32f4489b105c0a140e11dd7": {
     "model_module": "@jupyter-widgets/base",
     "model_name": "LayoutModel",
     "state": {
      "_model_module": "@jupyter-widgets/base",
      "_model_module_version": "1.2.0",
      "_model_name": "LayoutModel",
      "_view_count": null,
      "_view_module": "@jupyter-widgets/base",
      "_view_module_version": "1.2.0",
      "_view_name": "LayoutView",
      "align_content": null,
      "align_items": null,
      "align_self": null,
      "border": null,
      "bottom": null,
      "display": null,
      "flex": null,
      "flex_flow": null,
      "grid_area": null,
      "grid_auto_columns": null,
      "grid_auto_flow": null,
      "grid_auto_rows": null,
      "grid_column": null,
      "grid_gap": null,
      "grid_row": null,
      "grid_template_areas": null,
      "grid_template_columns": null,
      "grid_template_rows": null,
      "height": null,
      "justify_content": null,
      "justify_items": null,
      "left": null,
      "margin": null,
      "max_height": null,
      "max_width": null,
      "min_height": null,
      "min_width": null,
      "object_fit": null,
      "object_position": null,
      "order": null,
      "overflow": null,
      "overflow_x": null,
      "overflow_y": null,
      "padding": null,
      "right": null,
      "top": null,
      "visibility": null,
      "width": null
     }
    },
    "fa00d24a807248e6a5d042371f14c159": {
     "model_module": "@jupyter-widgets/controls",
     "model_name": "DescriptionStyleModel",
     "state": {
      "_model_module": "@jupyter-widgets/controls",
      "_model_module_version": "1.5.0",
      "_model_name": "DescriptionStyleModel",
      "_view_count": null,
      "_view_module": "@jupyter-widgets/base",
      "_view_module_version": "1.2.0",
      "_view_name": "StyleView",
      "description_width": ""
     }
    }
   }
  }
 },
 "nbformat": 4,
 "nbformat_minor": 1
}
