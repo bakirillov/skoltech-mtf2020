{
 "cells": [
  {
   "cell_type": "code",
   "execution_count": 1,
   "metadata": {},
   "outputs": [],
   "source": [
    "import torch\n",
    "import numpy as np\n",
    "from torch import nn\n",
    "import tensorly as tl\n",
    "from tqdm import tqdm\n",
    "import matplotlib.pyplot\n",
    "from torch.optim import Adam\n",
    "from matplotlib import rcParams\n",
    "from torch.utils.data import DataLoader\n",
    "from torch.nn.utils import clip_grad_norm_\n",
    "from torch.optim.lr_scheduler import StepLR"
   ]
  },
  {
   "cell_type": "code",
   "execution_count": 2,
   "metadata": {},
   "outputs": [],
   "source": [
    "from tensor_layer import *"
   ]
  },
  {
   "cell_type": "code",
   "execution_count": 3,
   "metadata": {},
   "outputs": [
    {
     "data": {
      "text/plain": [
       "<torch._C.Generator at 0x7f326805dbd0>"
      ]
     },
     "execution_count": 3,
     "metadata": {},
     "output_type": "execute_result"
    }
   ],
   "source": [
    "np.random.seed(1337)\n",
    "torch.manual_seed(1377)"
   ]
  },
  {
   "cell_type": "code",
   "execution_count": 4,
   "metadata": {},
   "outputs": [],
   "source": [
    "tl.set_backend('pytorch')"
   ]
  },
  {
   "cell_type": "code",
   "execution_count": 5,
   "metadata": {},
   "outputs": [],
   "source": [
    "train_set = MOA_set(\"train_X.npy\", \"train_Y.npy\")\n",
    "val_set = MOA_set(\"val_X.npy\", \"val_Y.npy\")\n",
    "test_set = MOA_set(\"testing_X.npy\")"
   ]
  },
  {
   "cell_type": "code",
   "execution_count": 6,
   "metadata": {},
   "outputs": [
    {
     "data": {
      "text/plain": [
       "(17860, 5954, 3982)"
      ]
     },
     "execution_count": 6,
     "metadata": {},
     "output_type": "execute_result"
    }
   ],
   "source": [
    "len(train_set), len(val_set), len(test_set)"
   ]
  },
  {
   "cell_type": "code",
   "execution_count": 7,
   "metadata": {},
   "outputs": [],
   "source": [
    "BATCH_SIZE = 32"
   ]
  },
  {
   "cell_type": "code",
   "execution_count": 8,
   "metadata": {},
   "outputs": [],
   "source": [
    "train_loader = DataLoader(train_set, batch_size=BATCH_SIZE, shuffle=True)\n",
    "val_loader = DataLoader(val_set, batch_size=BATCH_SIZE, shuffle=False)\n",
    "test_loader = DataLoader(test_set, batch_size=BATCH_SIZE, shuffle=False)"
   ]
  },
  {
   "cell_type": "code",
   "execution_count": 9,
   "metadata": {},
   "outputs": [],
   "source": [
    "class TensorNet(nn.Module): \n",
    "    \n",
    "    def __init__(\n",
    "        self, order, input_dim, output_dim, rank_tucker=5\n",
    "    ):\n",
    "        super(TensorNet, self).__init__()\n",
    "        self.tensor = NeuralTensorLayer(\n",
    "            order, input_dim, output_dim, rank_tucker=rank_tucker\n",
    "        )\n",
    "        self.bn = nn.BatchNorm1d(output_dim)\n",
    "        #self.l = nn.Linear(tensor_dim, output_dim)\n",
    "        self.s = nn.Sigmoid()\n",
    "        \n",
    "    def forward(self, x):\n",
    "        return(self.s(self.bn(self.tensor(x))))\n",
    "    \n",
    "    def predict(self, loader, loss=None, train=True, verbose=False, orth_alpha=None):\n",
    "        Y_hat = []\n",
    "        mean_loss = 0\n",
    "        ld = tqdm(loader) if verbose else loader\n",
    "        for i,a in enumerate(ld):\n",
    "            d = a[0] if train else a\n",
    "            c_Y_hat = self.forward(d)\n",
    "            c_y_hat = c_Y_hat.cpu().data.numpy()\n",
    "            Y_hat.append(c_y_hat)\n",
    "            if train:\n",
    "                loss_val = loss(c_Y_hat, a[1])\n",
    "                if orth_alpha:\n",
    "                    loss_val += self.tensor.get_orthogonality_loss()*orth_alpha\n",
    "                mean_loss += loss_val.cpu().data.numpy()\n",
    "        return(np.concatenate(Y_hat), mean_loss/i)\n",
    "    \n",
    "    def fit(\n",
    "        self, loader, loss, optimizer, scheduler, n_iter, \n",
    "        val_loader, metrics, print_every=10, orth_alpha=0.1, fit_orthogonality=True\n",
    "    ):\n",
    "        history = {a: [] for a in metrics}\n",
    "        history[\"train_loss\"] = []\n",
    "        history[\"val_loss\"] = []\n",
    "        for j in tqdm(np.arange(n_iter)):\n",
    "            mean_loss = 0\n",
    "            self.train()\n",
    "            for i,(batch_X, batch_Y) in enumerate(loader):\n",
    "                optimizer.zero_grad()\n",
    "                Y_hat = self.forward(batch_X)\n",
    "                loss_val = loss(Y_hat, batch_Y)\n",
    "                if fit_orthogonality:\n",
    "                    loss_val += self.tensor.get_orthogonality_loss()*orth_alpha\n",
    "                loss_val.backward()\n",
    "                optimizer.step()\n",
    "                mean_loss += loss_val.cpu().data.numpy()\n",
    "            history[\"train_loss\"].append(mean_loss/i)\n",
    "            self.eval()\n",
    "            val_Y_hat, val_loss = self.predict(val_loader, loss, orth_alpha=orth_alpha)\n",
    "            history[\"val_loss\"].append(val_loss)\n",
    "            val_Y = np.concatenate([a[1].cpu().data.numpy() for a in val_loader])\n",
    "            for m in metrics:\n",
    "                history[m].append(metrics[m](val_Y, val_Y_hat))\n",
    "            if (j+1) % print_every == 0:\n",
    "                print(\"epoch#\"+str(j))\n",
    "                print(\"train loss\", history[\"train_loss\"][-1])\n",
    "                print(\"val loss\", history[\"val_loss\"][-1])\n",
    "                for m in metrics:\n",
    "                    print(m, history[m][-1])\n",
    "            clip_grad_norm_(self.parameters(), 0.3)\n",
    "            scheduler.step()\n",
    "        return(history)"
   ]
  },
  {
   "cell_type": "code",
   "execution_count": 10,
   "metadata": {},
   "outputs": [
    {
     "name": "stderr",
     "output_type": "stream",
     "text": [
      "/home/bakirillov/HDD/education/Skoltech/MTF/project/skoltech-mtf2020/tensor_layer.py:57: UserWarning: nn.init.xavier_uniform is now deprecated in favor of nn.init.xavier_uniform_.\n",
      "  initializer(self.bias)\n"
     ]
    }
   ],
   "source": [
    "model = TensorNet(2, 879, 206).cuda()"
   ]
  },
  {
   "cell_type": "code",
   "execution_count": 11,
   "metadata": {},
   "outputs": [],
   "source": [
    "loss = nn.BCELoss()\n",
    "optimizer = Adam(model.parameters(), lr=0.001)\n",
    "scheduler = StepLR(optimizer, step_size=5, gamma=0.9)"
   ]
  },
  {
   "cell_type": "code",
   "execution_count": 12,
   "metadata": {},
   "outputs": [],
   "source": [
    "def colwise_logloss(Y, Y_hat):\n",
    "    return(-(Y * np.log(Y_hat+10**-6) + (1 - Y) * np.log(1 - Y_hat+10**-6)).mean())"
   ]
  },
  {
   "cell_type": "code",
   "execution_count": 13,
   "metadata": {
    "scrolled": false
   },
   "outputs": [
    {
     "data": {
      "application/vnd.jupyter.widget-view+json": {
       "model_id": "97a0219e7e3147e4aa924aaadc7ed736",
       "version_major": 2,
       "version_minor": 0
      },
      "text/plain": [
       "HBox(children=(FloatProgress(value=0.0, max=30.0), HTML(value='')))"
      ]
     },
     "metadata": {},
     "output_type": "display_data"
    },
    {
     "name": "stdout",
     "output_type": "stream",
     "text": [
      "epoch#4\n",
      "train loss 698.245369695848\n",
      "val loss 473.65775208832116\n",
      "CWLL 0.12547508\n",
      "epoch#9\n",
      "train loss 28.58900260925293\n",
      "val loss 20.579439501608572\n",
      "CWLL 0.045604143\n",
      "epoch#14\n",
      "train loss 1.1364072124376947\n",
      "val loss 0.7615447880760315\n",
      "CWLL 0.026258457\n",
      "epoch#19\n",
      "train loss 0.029384492402462336\n",
      "val loss 0.02438880479143512\n",
      "CWLL 0.021172386\n",
      "epoch#24\n",
      "train loss 0.02048475466715339\n",
      "val loss 0.02000859271114071\n",
      "CWLL 0.019852545\n",
      "epoch#29\n",
      "train loss 0.019998010027632917\n",
      "val loss 0.019567438546488042\n",
      "CWLL 0.019411504\n",
      "\n"
     ]
    }
   ],
   "source": [
    "history = model.fit(\n",
    "    train_loader, loss, optimizer, scheduler, 30, val_loader, \n",
    "    {\"CWLL\": colwise_logloss}, 5\n",
    ")"
   ]
  },
  {
   "cell_type": "code",
   "execution_count": 16,
   "metadata": {},
   "outputs": [],
   "source": [
    "rcParams[\"figure.figsize\"] = (10, 3)"
   ]
  },
  {
   "cell_type": "code",
   "execution_count": 17,
   "metadata": {
    "scrolled": true
   },
   "outputs": [
    {
     "data": {
      "image/png": "[encoded data removed]",
      "text/plain": [
       "<Figure size 720x216 with 2 Axes>"
      ]
     },
     "metadata": {
      "needs_background": "light"
     },
     "output_type": "display_data"
    }
   ],
   "source": [
    "fig, axes = plt.subplots(1,2)\n",
    "axes[0].plot(history[\"train_loss\"])\n",
    "axes[0].plot(history[\"val_loss\"])\n",
    "axes[1].plot(history[\"CWLL\"])\n",
    "axes[0].set_ylabel(\"BCE\")\n",
    "axes[1].set_ylabel(\"CWLL\")\n",
    "plt.show()"
   ]
  },
  {
   "cell_type": "code",
   "execution_count": 19,
   "metadata": {
    "scrolled": true
   },
   "outputs": [
    {
     "data": {
      "text/plain": [
       "{'CWLL': [0.46808732,\n",
       "  0.32199928,\n",
       "  0.22681428,\n",
       "  0.16628875,\n",
       "  0.12547508,\n",
       "  0.09921541,\n",
       "  0.07965972,\n",
       "  0.064983726,\n",
       "  0.053933572,\n",
       "  0.045604143,\n",
       "  0.039667316,\n",
       "  0.034993965,\n",
       "  0.03136281,\n",
       "  0.02850356,\n",
       "  0.026258457,\n",
       "  0.024688613,\n",
       "  0.02353146,\n",
       "  0.022482341,\n",
       "  0.02171527,\n",
       "  0.021172386,\n",
       "  0.02071931,\n",
       "  0.020420417,\n",
       "  0.02020206,\n",
       "  0.020038506,\n",
       "  0.019852545,\n",
       "  0.019843858,\n",
       "  0.019609611,\n",
       "  0.0195326,\n",
       "  0.019477556,\n",
       "  0.019411504],\n",
       " 'train_loss': [118628.98945032482,\n",
       "  12355.774585573477,\n",
       "  3779.336576728411,\n",
       "  1533.4168939624635,\n",
       "  698.245369695848,\n",
       "  348.6907442974788,\n",
       "  185.29564404231246,\n",
       "  99.33156562449685,\n",
       "  53.38494147023847,\n",
       "  28.58900260925293,\n",
       "  15.571608493832278,\n",
       "  8.561357236677601,\n",
       "  4.5551069474989365,\n",
       "  2.3303195985841922,\n",
       "  1.1364072124376947,\n",
       "  0.5409109531551279,\n",
       "  0.2515912859777396,\n",
       "  0.1114103734012573,\n",
       "  0.05134084540349181,\n",
       "  0.029384492402462336,\n",
       "  0.02297477917678948,\n",
       "  0.02135297148672056,\n",
       "  0.020879830891353254,\n",
       "  0.020631830228031965,\n",
       "  0.02048475466715339,\n",
       "  0.02031896021183727,\n",
       "  0.020226332208802624,\n",
       "  0.02012452618202268,\n",
       "  0.020075984918395573,\n",
       "  0.019998010027632917],\n",
       " 'val_loss': [24318.851121471773,\n",
       "  6045.690421811996,\n",
       "  2277.051281344506,\n",
       "  998.4487793625042,\n",
       "  473.65775208832116,\n",
       "  250.2727522491127,\n",
       "  133.7781219482422,\n",
       "  71.88780565159296,\n",
       "  38.5984205635645,\n",
       "  20.579439501608572,\n",
       "  11.467392736865628,\n",
       "  6.196892528123753,\n",
       "  3.2299904233665875,\n",
       "  1.6111524201208545,\n",
       "  0.7615447880760315,\n",
       "  0.36453305136772896,\n",
       "  0.16357440813895194,\n",
       "  0.07206279784440994,\n",
       "  0.03605415808257236,\n",
       "  0.02438880479143512,\n",
       "  0.021416563525675766,\n",
       "  0.020635757099596724,\n",
       "  0.020361682330007836,\n",
       "  0.020194700448423305,\n",
       "  0.02000859271114071,\n",
       "  0.019999590131544297,\n",
       "  0.01976559251566888,\n",
       "  0.0196884608857574,\n",
       "  0.019633433631350918,\n",
       "  0.019567438546488042]}"
      ]
     },
     "execution_count": 19,
     "metadata": {},
     "output_type": "execute_result"
    }
   ],
   "source": [
    "history"
   ]
  },
  {
   "cell_type": "code",
   "execution_count": 20,
   "metadata": {},
   "outputs": [],
   "source": [
    "with open(\"model.bin\", \"wb\") as oh:\n",
    "    torch.save(model, oh)"
   ]
  },
  {
   "cell_type": "code",
   "execution_count": 22,
   "metadata": {},
   "outputs": [
    {
     "data": {
      "application/vnd.jupyter.widget-view+json": {
       "model_id": "68973dafbc484aee88b4e2db5ba3b9d1",
       "version_major": 2,
       "version_minor": 0
      },
      "text/plain": [
       "HBox(children=(FloatProgress(value=0.0, max=125.0), HTML(value='')))"
      ]
     },
     "metadata": {},
     "output_type": "display_data"
    },
    {
     "name": "stdout",
     "output_type": "stream",
     "text": [
      "\n"
     ]
    }
   ],
   "source": [
    "test_predictions = model.predict(test_loader, train=False, verbose=True)[0]"
   ]
  },
  {
   "cell_type": "code",
   "execution_count": 27,
   "metadata": {},
   "outputs": [
    {
     "data": {
      "text/plain": [
       "(3982, 206)"
      ]
     },
     "execution_count": 27,
     "metadata": {},
     "output_type": "execute_result"
    }
   ],
   "source": [
    "test_predictions.shape"
   ]
  },
  {
   "cell_type": "code",
   "execution_count": 29,
   "metadata": {},
   "outputs": [],
   "source": [
    "import pandas as pd"
   ]
  },
  {
   "cell_type": "code",
   "execution_count": 46,
   "metadata": {},
   "outputs": [],
   "source": [
    "test_data = pd.read_csv(\"data/test_features.csv\", index_col=\"sig_id\")\n",
    "targets = pd.read_csv(\"data/train_targets_scored.csv\", index_col=\"sig_id\")"
   ]
  },
  {
   "cell_type": "code",
   "execution_count": 41,
   "metadata": {},
   "outputs": [],
   "source": [
    "out_df = pd.DataFrame(test_predictions)"
   ]
  },
  {
   "cell_type": "code",
   "execution_count": 47,
   "metadata": {},
   "outputs": [
    {
     "data": {
      "text/plain": [
       "((3982, 875), (23814, 206))"
      ]
     },
     "execution_count": 47,
     "metadata": {},
     "output_type": "execute_result"
    }
   ],
   "source": [
    "test_data.shape, targets.shape"
   ]
  },
  {
   "cell_type": "code",
   "execution_count": 45,
   "metadata": {},
   "outputs": [
    {
     "data": {
      "text/plain": [
       "(3982, 206)"
      ]
     },
     "execution_count": 45,
     "metadata": {},
     "output_type": "execute_result"
    }
   ],
   "source": [
    "out_df.shape"
   ]
  },
  {
   "cell_type": "code",
   "execution_count": 49,
   "metadata": {},
   "outputs": [],
   "source": [
    "out_df.columns = targets.columns\n",
    "out_df.index = test_data.index"
   ]
  },
  {
   "cell_type": "code",
   "execution_count": 51,
   "metadata": {},
   "outputs": [],
   "source": [
    "out_df.to_csv(\"tensornet_submission.csv\")"
   ]
  }
 ],
 "metadata": {
  "kernelspec": {
   "display_name": "Python 3",
   "language": "python",
   "name": "python3"
  },
  "language_info": {
   "codemirror_mode": {
    "name": "ipython",
    "version": 3
   },
   "file_extension": ".py",
   "mimetype": "text/x-python",
   "name": "python",
   "nbconvert_exporter": "python",
   "pygments_lexer": "ipython3",
   "version": "3.7.5"
  }
 },
 "nbformat": 4,
 "nbformat_minor": 2
}
