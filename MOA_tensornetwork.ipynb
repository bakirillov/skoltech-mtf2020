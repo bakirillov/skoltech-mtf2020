{
 "cells": [
  {
   "cell_type": "code",
   "execution_count": 22,
   "metadata": {},
   "outputs": [],
   "source": [
    "import torch\n",
    "import numpy as np\n",
    "from torch import nn\n",
    "import tensorly as tl\n",
    "from tqdm import tqdm\n",
    "import matplotlib.pyplot\n",
    "from torch.optim import Adam\n",
    "from torch.utils.data import DataLoader"
   ]
  },
  {
   "cell_type": "code",
   "execution_count": 2,
   "metadata": {},
   "outputs": [],
   "source": [
    "from tensor_layer import *"
   ]
  },
  {
   "cell_type": "code",
   "execution_count": 21,
   "metadata": {},
   "outputs": [],
   "source": [
    "tl.set_backend('pytorch')"
   ]
  },
  {
   "cell_type": "code",
   "execution_count": 19,
   "metadata": {},
   "outputs": [],
   "source": [
    "train_set = MOA_set(\"training_X.npy\", \"training_Y.npy\")\n",
    "test_set = MOA_set(\"testing_X.npy\")"
   ]
  },
  {
   "cell_type": "code",
   "execution_count": 24,
   "metadata": {},
   "outputs": [],
   "source": [
    "training_loader = DataLoader(train_set, batch_size=16, shuffle=True)\n",
    "test_loader = DataLoader(test_set, batch_size=16, shuffle=False)"
   ]
  },
  {
   "cell_type": "code",
   "execution_count": null,
   "metadata": {},
   "outputs": [],
   "source": [
    "loss = "
   ]
  },
  {
   "cell_type": "code",
   "execution_count": null,
   "metadata": {},
   "outputs": [],
   "source": [
    "num_iter = 1000\n",
    "batch_size = 100\n",
    "errors = []\n",
    "batch_count = len(data) // batch_size if len(data) % batch_size == 0 else len(data) // batch_size + 1\n",
    "\n",
    "for i in tqdm(range(num_iter)):\n",
    "    \n",
    "    mean_loss = 0\n",
    "    \n",
    "    for batch in range(batch_count):\n",
    "        \n",
    "        inp = torch.Tensor(data[batch * batch_size:(batch + 1) * batch_size])\n",
    "        tar = torch.Tensor(target[batch * batch_size:(batch + 1) * batch_size]).type(torch.long)\n",
    "    \n",
    "        optimizer.zero_grad()\n",
    "        output = NN(inp)\n",
    "        loss_val = loss(output, torch.flatten(tar))\n",
    "        loss_val.backward()\n",
    "        optimizer.step()\n",
    "        \n",
    "        mean_loss += loss_val\n",
    "        \n",
    "    errors.append(mean_loss / batch_count)\n",
    "        \n",
    "    if i % 100 == 0:\n",
    "        print(loss_val)"
   ]
  }
 ],
 "metadata": {
  "kernelspec": {
   "display_name": "Python 3",
   "language": "python",
   "name": "python3"
  },
  "language_info": {
   "codemirror_mode": {
    "name": "ipython",
    "version": 3
   },
   "file_extension": ".py",
   "mimetype": "text/x-python",
   "name": "python",
   "nbconvert_exporter": "python",
   "pygments_lexer": "ipython3",
   "version": "3.7.5"
  }
 },
 "nbformat": 4,
 "nbformat_minor": 2
}
