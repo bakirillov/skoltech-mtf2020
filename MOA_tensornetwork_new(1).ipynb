{
  "nbformat": 4,
  "nbformat_minor": 0,
  "metadata": {
    "kernelspec": {
      "display_name": "Python 3",
      "language": "python",
      "name": "python3"
    },
    "language_info": {
      "codemirror_mode": {
        "name": "ipython",
        "version": 3
      },
      "file_extension": ".py",
      "mimetype": "text/x-python",
      "name": "python",
      "nbconvert_exporter": "python",
      "pygments_lexer": "ipython3",
      "version": "3.8.5"
    },
    "colab": {
      "name": "MOA_tensornetwork.ipynb",
      "provenance": [],
      "collapsed_sections": []
    },
    "accelerator": "GPU",
    "widgets": {
      "application/vnd.jupyter.widget-state+json": {
        "733635ddfbcf473a9f05ef1199129854": {
          "model_module": "@jupyter-widgets/controls",
          "model_name": "HBoxModel",
          "state": {
            "_view_name": "HBoxView",
            "_dom_classes": [],
            "_model_name": "HBoxModel",
            "_view_module": "@jupyter-widgets/controls",
            "_model_module_version": "1.5.0",
            "_view_count": null,
            "_view_module_version": "1.5.0",
            "box_style": "",
            "layout": "IPY_MODEL_61c2a3d703a94c4c8fbe89543fb4b0d7",
            "_model_module": "@jupyter-widgets/controls",
            "children": [
              "IPY_MODEL_5a197cbb5c9244ad990581e749d6e7f3",
              "IPY_MODEL_096a12a7d78644e59808dfbf352df51e"
            ]
          }
        },
        "61c2a3d703a94c4c8fbe89543fb4b0d7": {
          "model_module": "@jupyter-widgets/base",
          "model_name": "LayoutModel",
          "state": {
            "_view_name": "LayoutView",
            "grid_template_rows": null,
            "right": null,
            "justify_content": null,
            "_view_module": "@jupyter-widgets/base",
            "overflow": null,
            "_model_module_version": "1.2.0",
            "_view_count": null,
            "flex_flow": null,
            "width": null,
            "min_width": null,
            "border": null,
            "align_items": null,
            "bottom": null,
            "_model_module": "@jupyter-widgets/base",
            "top": null,
            "grid_column": null,
            "overflow_y": null,
            "overflow_x": null,
            "grid_auto_flow": null,
            "grid_area": null,
            "grid_template_columns": null,
            "flex": null,
            "_model_name": "LayoutModel",
            "justify_items": null,
            "grid_row": null,
            "max_height": null,
            "align_content": null,
            "visibility": null,
            "align_self": null,
            "height": null,
            "min_height": null,
            "padding": null,
            "grid_auto_rows": null,
            "grid_gap": null,
            "max_width": null,
            "order": null,
            "_view_module_version": "1.2.0",
            "grid_template_areas": null,
            "object_position": null,
            "object_fit": null,
            "grid_auto_columns": null,
            "margin": null,
            "display": null,
            "left": null
          }
        },
        "5a197cbb5c9244ad990581e749d6e7f3": {
          "model_module": "@jupyter-widgets/controls",
          "model_name": "FloatProgressModel",
          "state": {
            "_view_name": "ProgressView",
            "style": "IPY_MODEL_a6d4618c5b7d40f9a5ef109d777f22d5",
            "_dom_classes": [],
            "description": "100%",
            "_model_name": "FloatProgressModel",
            "bar_style": "success",
            "max": 5,
            "_view_module": "@jupyter-widgets/controls",
            "_model_module_version": "1.5.0",
            "value": 5,
            "_view_count": null,
            "_view_module_version": "1.5.0",
            "orientation": "horizontal",
            "min": 0,
            "description_tooltip": null,
            "_model_module": "@jupyter-widgets/controls",
            "layout": "IPY_MODEL_1ad6dbef24684326a0dba579eb8ae7f1"
          }
        },
        "096a12a7d78644e59808dfbf352df51e": {
          "model_module": "@jupyter-widgets/controls",
          "model_name": "HTMLModel",
          "state": {
            "_view_name": "HTMLView",
            "style": "IPY_MODEL_02aa6ecb4ca4422aa156849d165a83e3",
            "_dom_classes": [],
            "description": "",
            "_model_name": "HTMLModel",
            "placeholder": "​",
            "_view_module": "@jupyter-widgets/controls",
            "_model_module_version": "1.5.0",
            "value": " 5/5 [05:12&lt;00:00, 62.53s/it]",
            "_view_count": null,
            "_view_module_version": "1.5.0",
            "description_tooltip": null,
            "_model_module": "@jupyter-widgets/controls",
            "layout": "IPY_MODEL_9956301be9444219bdd2de6a86402a5a"
          }
        },
        "a6d4618c5b7d40f9a5ef109d777f22d5": {
          "model_module": "@jupyter-widgets/controls",
          "model_name": "ProgressStyleModel",
          "state": {
            "_view_name": "StyleView",
            "_model_name": "ProgressStyleModel",
            "description_width": "initial",
            "_view_module": "@jupyter-widgets/base",
            "_model_module_version": "1.5.0",
            "_view_count": null,
            "_view_module_version": "1.2.0",
            "bar_color": null,
            "_model_module": "@jupyter-widgets/controls"
          }
        },
        "1ad6dbef24684326a0dba579eb8ae7f1": {
          "model_module": "@jupyter-widgets/base",
          "model_name": "LayoutModel",
          "state": {
            "_view_name": "LayoutView",
            "grid_template_rows": null,
            "right": null,
            "justify_content": null,
            "_view_module": "@jupyter-widgets/base",
            "overflow": null,
            "_model_module_version": "1.2.0",
            "_view_count": null,
            "flex_flow": null,
            "width": null,
            "min_width": null,
            "border": null,
            "align_items": null,
            "bottom": null,
            "_model_module": "@jupyter-widgets/base",
            "top": null,
            "grid_column": null,
            "overflow_y": null,
            "overflow_x": null,
            "grid_auto_flow": null,
            "grid_area": null,
            "grid_template_columns": null,
            "flex": null,
            "_model_name": "LayoutModel",
            "justify_items": null,
            "grid_row": null,
            "max_height": null,
            "align_content": null,
            "visibility": null,
            "align_self": null,
            "height": null,
            "min_height": null,
            "padding": null,
            "grid_auto_rows": null,
            "grid_gap": null,
            "max_width": null,
            "order": null,
            "_view_module_version": "1.2.0",
            "grid_template_areas": null,
            "object_position": null,
            "object_fit": null,
            "grid_auto_columns": null,
            "margin": null,
            "display": null,
            "left": null
          }
        },
        "02aa6ecb4ca4422aa156849d165a83e3": {
          "model_module": "@jupyter-widgets/controls",
          "model_name": "DescriptionStyleModel",
          "state": {
            "_view_name": "StyleView",
            "_model_name": "DescriptionStyleModel",
            "description_width": "",
            "_view_module": "@jupyter-widgets/base",
            "_model_module_version": "1.5.0",
            "_view_count": null,
            "_view_module_version": "1.2.0",
            "_model_module": "@jupyter-widgets/controls"
          }
        },
        "9956301be9444219bdd2de6a86402a5a": {
          "model_module": "@jupyter-widgets/base",
          "model_name": "LayoutModel",
          "state": {
            "_view_name": "LayoutView",
            "grid_template_rows": null,
            "right": null,
            "justify_content": null,
            "_view_module": "@jupyter-widgets/base",
            "overflow": null,
            "_model_module_version": "1.2.0",
            "_view_count": null,
            "flex_flow": null,
            "width": null,
            "min_width": null,
            "border": null,
            "align_items": null,
            "bottom": null,
            "_model_module": "@jupyter-widgets/base",
            "top": null,
            "grid_column": null,
            "overflow_y": null,
            "overflow_x": null,
            "grid_auto_flow": null,
            "grid_area": null,
            "grid_template_columns": null,
            "flex": null,
            "_model_name": "LayoutModel",
            "justify_items": null,
            "grid_row": null,
            "max_height": null,
            "align_content": null,
            "visibility": null,
            "align_self": null,
            "height": null,
            "min_height": null,
            "padding": null,
            "grid_auto_rows": null,
            "grid_gap": null,
            "max_width": null,
            "order": null,
            "_view_module_version": "1.2.0",
            "grid_template_areas": null,
            "object_position": null,
            "object_fit": null,
            "grid_auto_columns": null,
            "margin": null,
            "display": null,
            "left": null
          }
        },
        "ff47752fdbf5409485de1e33b271da1d": {
          "model_module": "@jupyter-widgets/controls",
          "model_name": "HBoxModel",
          "state": {
            "_view_name": "HBoxView",
            "_dom_classes": [],
            "_model_name": "HBoxModel",
            "_view_module": "@jupyter-widgets/controls",
            "_model_module_version": "1.5.0",
            "_view_count": null,
            "_view_module_version": "1.5.0",
            "box_style": "",
            "layout": "IPY_MODEL_c54d288ccd8e491594d135eeb13c9b28",
            "_model_module": "@jupyter-widgets/controls",
            "children": [
              "IPY_MODEL_3aea04fd43634075ba57e32c28713c3a",
              "IPY_MODEL_25956fed99d64f2693151084f37ba6a9"
            ]
          }
        },
        "c54d288ccd8e491594d135eeb13c9b28": {
          "model_module": "@jupyter-widgets/base",
          "model_name": "LayoutModel",
          "state": {
            "_view_name": "LayoutView",
            "grid_template_rows": null,
            "right": null,
            "justify_content": null,
            "_view_module": "@jupyter-widgets/base",
            "overflow": null,
            "_model_module_version": "1.2.0",
            "_view_count": null,
            "flex_flow": null,
            "width": null,
            "min_width": null,
            "border": null,
            "align_items": null,
            "bottom": null,
            "_model_module": "@jupyter-widgets/base",
            "top": null,
            "grid_column": null,
            "overflow_y": null,
            "overflow_x": null,
            "grid_auto_flow": null,
            "grid_area": null,
            "grid_template_columns": null,
            "flex": null,
            "_model_name": "LayoutModel",
            "justify_items": null,
            "grid_row": null,
            "max_height": null,
            "align_content": null,
            "visibility": null,
            "align_self": null,
            "height": null,
            "min_height": null,
            "padding": null,
            "grid_auto_rows": null,
            "grid_gap": null,
            "max_width": null,
            "order": null,
            "_view_module_version": "1.2.0",
            "grid_template_areas": null,
            "object_position": null,
            "object_fit": null,
            "grid_auto_columns": null,
            "margin": null,
            "display": null,
            "left": null
          }
        },
        "3aea04fd43634075ba57e32c28713c3a": {
          "model_module": "@jupyter-widgets/controls",
          "model_name": "FloatProgressModel",
          "state": {
            "_view_name": "ProgressView",
            "style": "IPY_MODEL_b1678e85659e41d0a324e8dfe311b105",
            "_dom_classes": [],
            "description": "100%",
            "_model_name": "FloatProgressModel",
            "bar_style": "success",
            "max": 1000,
            "_view_module": "@jupyter-widgets/controls",
            "_model_module_version": "1.5.0",
            "value": 1000,
            "_view_count": null,
            "_view_module_version": "1.5.0",
            "orientation": "horizontal",
            "min": 0,
            "description_tooltip": null,
            "_model_module": "@jupyter-widgets/controls",
            "layout": "IPY_MODEL_8cf7f5de2e7d406d87aabece4aefc150"
          }
        },
        "25956fed99d64f2693151084f37ba6a9": {
          "model_module": "@jupyter-widgets/controls",
          "model_name": "HTMLModel",
          "state": {
            "_view_name": "HTMLView",
            "style": "IPY_MODEL_6326ea9ff49c467bbae9c55575dd2635",
            "_dom_classes": [],
            "description": "",
            "_model_name": "HTMLModel",
            "placeholder": "​",
            "_view_module": "@jupyter-widgets/controls",
            "_model_module_version": "1.5.0",
            "value": " 1000/1000 [02:15&lt;00:00,  7.38it/s]",
            "_view_count": null,
            "_view_module_version": "1.5.0",
            "description_tooltip": null,
            "_model_module": "@jupyter-widgets/controls",
            "layout": "IPY_MODEL_86b7e7687a5b4f9aa6dd18f6de97fcd5"
          }
        },
        "b1678e85659e41d0a324e8dfe311b105": {
          "model_module": "@jupyter-widgets/controls",
          "model_name": "ProgressStyleModel",
          "state": {
            "_view_name": "StyleView",
            "_model_name": "ProgressStyleModel",
            "description_width": "initial",
            "_view_module": "@jupyter-widgets/base",
            "_model_module_version": "1.5.0",
            "_view_count": null,
            "_view_module_version": "1.2.0",
            "bar_color": null,
            "_model_module": "@jupyter-widgets/controls"
          }
        },
        "8cf7f5de2e7d406d87aabece4aefc150": {
          "model_module": "@jupyter-widgets/base",
          "model_name": "LayoutModel",
          "state": {
            "_view_name": "LayoutView",
            "grid_template_rows": null,
            "right": null,
            "justify_content": null,
            "_view_module": "@jupyter-widgets/base",
            "overflow": null,
            "_model_module_version": "1.2.0",
            "_view_count": null,
            "flex_flow": null,
            "width": null,
            "min_width": null,
            "border": null,
            "align_items": null,
            "bottom": null,
            "_model_module": "@jupyter-widgets/base",
            "top": null,
            "grid_column": null,
            "overflow_y": null,
            "overflow_x": null,
            "grid_auto_flow": null,
            "grid_area": null,
            "grid_template_columns": null,
            "flex": null,
            "_model_name": "LayoutModel",
            "justify_items": null,
            "grid_row": null,
            "max_height": null,
            "align_content": null,
            "visibility": null,
            "align_self": null,
            "height": null,
            "min_height": null,
            "padding": null,
            "grid_auto_rows": null,
            "grid_gap": null,
            "max_width": null,
            "order": null,
            "_view_module_version": "1.2.0",
            "grid_template_areas": null,
            "object_position": null,
            "object_fit": null,
            "grid_auto_columns": null,
            "margin": null,
            "display": null,
            "left": null
          }
        },
        "6326ea9ff49c467bbae9c55575dd2635": {
          "model_module": "@jupyter-widgets/controls",
          "model_name": "DescriptionStyleModel",
          "state": {
            "_view_name": "StyleView",
            "_model_name": "DescriptionStyleModel",
            "description_width": "",
            "_view_module": "@jupyter-widgets/base",
            "_model_module_version": "1.5.0",
            "_view_count": null,
            "_view_module_version": "1.2.0",
            "_model_module": "@jupyter-widgets/controls"
          }
        },
        "86b7e7687a5b4f9aa6dd18f6de97fcd5": {
          "model_module": "@jupyter-widgets/base",
          "model_name": "LayoutModel",
          "state": {
            "_view_name": "LayoutView",
            "grid_template_rows": null,
            "right": null,
            "justify_content": null,
            "_view_module": "@jupyter-widgets/base",
            "overflow": null,
            "_model_module_version": "1.2.0",
            "_view_count": null,
            "flex_flow": null,
            "width": null,
            "min_width": null,
            "border": null,
            "align_items": null,
            "bottom": null,
            "_model_module": "@jupyter-widgets/base",
            "top": null,
            "grid_column": null,
            "overflow_y": null,
            "overflow_x": null,
            "grid_auto_flow": null,
            "grid_area": null,
            "grid_template_columns": null,
            "flex": null,
            "_model_name": "LayoutModel",
            "justify_items": null,
            "grid_row": null,
            "max_height": null,
            "align_content": null,
            "visibility": null,
            "align_self": null,
            "height": null,
            "min_height": null,
            "padding": null,
            "grid_auto_rows": null,
            "grid_gap": null,
            "max_width": null,
            "order": null,
            "_view_module_version": "1.2.0",
            "grid_template_areas": null,
            "object_position": null,
            "object_fit": null,
            "grid_auto_columns": null,
            "margin": null,
            "display": null,
            "left": null
          }
        }
      }
    }
  },
  "cells": [
    {
      "cell_type": "code",
      "metadata": {
        "id": "ueaDw5L8oxOy",
        "outputId": "1c36f11e-217f-4ad4-9d98-77c8b3834693",
        "colab": {
          "base_uri": "https://localhost:8080/",
          "height": 85
        }
      },
      "source": [
        "!pip install tensorly"
      ],
      "execution_count": 1,
      "outputs": [
        {
          "output_type": "stream",
          "text": [
            "Requirement already satisfied: tensorly in /usr/local/lib/python3.6/dist-packages (0.5.0)\n",
            "Requirement already satisfied: scipy in /usr/local/lib/python3.6/dist-packages (from tensorly) (1.4.1)\n",
            "Requirement already satisfied: numpy in /usr/local/lib/python3.6/dist-packages (from tensorly) (1.18.5)\n",
            "Requirement already satisfied: nose in /usr/local/lib/python3.6/dist-packages (from tensorly) (1.3.7)\n"
          ],
          "name": "stdout"
        }
      ]
    },
    {
      "cell_type": "code",
      "metadata": {
        "id": "u3Nl8k8wPKSP"
      },
      "source": [
        "import torch\n",
        "import numpy as np\n",
        "from torch import nn\n",
        "import tensorly as tl\n",
        "from tqdm import tqdm\n",
        "import matplotlib.pyplot\n",
        "from torch.optim import Adam\n",
        "from torch.utils.data import DataLoader"
      ],
      "execution_count": 2,
      "outputs": []
    },
    {
      "cell_type": "code",
      "metadata": {
        "id": "f2Zr64XjPzcI",
        "outputId": "6f4af3d1-f2c9-4faf-c8b5-92695a72c860",
        "colab": {
          "base_uri": "https://localhost:8080/",
          "height": 34
        }
      },
      "source": [
        "from google.colab import drive\n",
        "drive.mount('/content/drive')"
      ],
      "execution_count": 3,
      "outputs": [
        {
          "output_type": "stream",
          "text": [
            "Drive already mounted at /content/drive; to attempt to forcibly remount, call drive.mount(\"/content/drive\", force_remount=True).\n"
          ],
          "name": "stdout"
        }
      ]
    },
    {
      "cell_type": "code",
      "metadata": {
        "id": "rc2qBVDePKSY"
      },
      "source": [
        "import numpy as np\n",
        "import matplotlib.pyplot as plt\n",
        "import torch\n",
        "from torch import nn\n",
        "from tqdm.notebook import tqdm\n",
        "\n",
        "import tensorly as tl\n",
        "from tensorly.random import random_tucker\n",
        "from tensorly.tucker_tensor import tucker_to_tensor\n",
        "\n",
        "\n",
        "from torch.utils.data import Dataset\n",
        "\n",
        "#tl.set_backend('pytorch')\n",
        "\n",
        "\n",
        "class NeuralTensorLayer(torch.nn.Module):\n",
        "    \n",
        "    \"\"\"\n",
        "    This is the class for \n",
        "    \"\"\"\n",
        "    \n",
        "    def __init__(self, order, input_dim, output_dim, rank_tucker=-1,\n",
        "                 initializer=torch.nn.init.xavier_uniform):\n",
        "        \n",
        "        super(NeuralTensorLayer, self).__init__()\n",
        "        \n",
        "        self.order = order\n",
        "        self.rank_tucker = rank_tucker\n",
        "        \n",
        "        if order > 3 or order < 1:\n",
        "            raise Exception('Order must be in range [1, 3]')\n",
        "            \n",
        "        if rank_tucker != -1 and rank_tucker < 1:\n",
        "            raise Exception('Tucker rank must be -1 or greater than 0 integer')\n",
        "            \n",
        "        self.input_dim = input_dim\n",
        "        self.output_dim = output_dim\n",
        "        \n",
        "        self.bias = nn.Parameter(torch.zeros((1, output_dim)), requires_grad=True)\n",
        "        initializer(self.bias)\n",
        "        \n",
        "        self.myparameters = torch.nn.ParameterList([self.bias])\n",
        "        \n",
        "        self.order1_tens = self.initialize_n_order_tensor(1, initializer)\n",
        "        \n",
        "        if order >= 2:\n",
        "            self.order2_tens = self.initialize_n_order_tensor(2, initializer)\n",
        "            \n",
        "        if order == 3:\n",
        "            self.order3_tens = self.initialize_n_order_tensor(3, initializer)\n",
        "        \n",
        "    # initialize tensor in full or in decomposed form and register it as parameter\n",
        "    def initialize_n_order_tensor(self, order, initializer):\n",
        "        \n",
        "        if self.rank_tucker >= 1:\n",
        "            \n",
        "            dim_list = [self.input_dim] * order + [self.output_dim]\n",
        "            tens_core, factors = random_tucker(dim_list, self.rank_tucker)\n",
        "            tens_core = nn.Parameter(tens_core, requires_grad=True)\n",
        "            factors = [nn.Parameter(fact, requires_grad=True) for fact in factors]\n",
        "            \n",
        "            self.myparameters.append(tens_core)\n",
        "            for fact in factors:\n",
        "                self.myparameters.append(fact)\n",
        "                \n",
        "            return (tens_core, factors)\n",
        "            \n",
        "        else:\n",
        "            \n",
        "            dim_list = [self.input_dim] * order + [self.output_dim]\n",
        "            var = nn.Parameter(torch.zeros(dim_list), requires_grad=True)\n",
        "            initializer(var)\n",
        "            self.myparameters.append(var)\n",
        "            \n",
        "            return var\n",
        "\n",
        "    def compute_result_for_vec(self, core, factor_inp, last_factor): # result dim (1, 1)\n",
        "        result = core\n",
        "        for i in range(len(factor_inp)):\n",
        "            result = tl.tenalg.mode_dot(result, factor_inp[i], i)\n",
        "        result = result.view(1, -1).mm(torch.transpose(last_factor, 0, 1))\n",
        "        return result.view(-1)\n",
        "\n",
        "    def mode_n_dot_accelerated(self, core, factors, input):\n",
        "\n",
        "        new_factors = [torch.transpose(factors[i], 0, 1).mm(input) for i in range(len(factors) - 1)]\n",
        "\n",
        "        return torch.stack([\n",
        "                            self.compute_result_for_vec(core, \n",
        "                                                        [new_factors[k][:, i] for k in range(len(factors) - 1)], factors[-1]) \n",
        "                            for i in range(input.shape[1])\n",
        "                            ], dim=0)\n",
        "        \n",
        "    def forward(self, X, transposed=False):\n",
        "        \n",
        "        if self.rank_tucker == -1:\n",
        "            result = torch.addmm(self.bias, X, self.order1_tens)\n",
        "        else:\n",
        "            result = torch.addmm(self.bias, X, tucker_to_tensor(self.order1_tens))\n",
        "        \n",
        "        if self.order >= 2:\n",
        "            \n",
        "            if self.rank_tucker == -1:      \n",
        "                acc = tl.tenalg.mode_dot(self.order2_tens, X, 0)\n",
        "            else:\n",
        "                acc = tl.tenalg.mode_dot(tucker_to_tensor(self.order2_tens), X, 0)\n",
        "\n",
        "            acc = tl.tenalg.mode_dot(acc, X, 1)\n",
        "            result += torch.einsum('iik->ik', acc)\n",
        "        \n",
        "        if self.order == 3:\n",
        "             \n",
        "            if self.rank_tucker == -1:      \n",
        "                acc = tl.tenalg.mode_dot(self.order3_tens, X, 0)\n",
        "            else:\n",
        "                acc = tl.tenalg.mode_dot(tucker_to_tensor(self.order3_tens), X, 0)\n",
        "            \n",
        "            acc = tl.tenalg.mode_dot(acc, X, 1)\n",
        "            acc = tl.tenalg.mode_dot(acc, X, 2)\n",
        "            result += torch.einsum('iiik->ik', acc)\n",
        "        \n",
        "        return tl.reshape(result, (X.shape[0], self.output_dim))\n",
        "\n",
        "    def get_orthogonality_loss(self):\n",
        "\n",
        "        if self.rank_tucker == -1:\n",
        "            return 0\n",
        "\n",
        "        loss = 0\n",
        "\n",
        "        for fact in self.order1_tens[1]:\n",
        "            loss += torch.sum((tl.dot(fact.T, fact) - torch.eye(fact.shape[1]).cuda()) ** 2)\n",
        "        \n",
        "        if self.order >= 2:\n",
        "            \n",
        "            for fact in self.order2_tens[1]:\n",
        "                loss += torch.sum((tl.dot(fact.T, fact) - torch.eye(fact.shape[1]).cuda()) ** 2)\n",
        "        \n",
        "        if self.order == 3:\n",
        "             \n",
        "            for fact in self.order3_tens[1]:\n",
        "                loss += torch.sum((tl.dot(fact.T, fact) - torch.eye(fact.shape[1]).cuda()) ** 2)\n",
        "\n",
        "        return loss\n",
        "\n",
        "\n",
        "class MOA_set(Dataset):\n",
        "    \n",
        "    def __init__(self, fn_X, fn_Y=None, cuda=True):\n",
        "        self.X = np.load(fn_X)\n",
        "        self.Y = None if not fn_Y else np.load(fn_Y)\n",
        "        self.Yn = True if not fn_Y else False\n",
        "        self.cuda = cuda\n",
        "        \n",
        "    def __len__(self):\n",
        "        return(self.X.shape[0])\n",
        "    \n",
        "    def __getitem__(self, ind):\n",
        "        x = torch.from_numpy(self.X[ind]).type(torch.FloatTensor)\n",
        "        if self.cuda:\n",
        "            x = x.cuda()\n",
        "        if not self.Yn:\n",
        "            y = torch.from_numpy(self.Y[ind]).type(torch.FloatTensor)\n",
        "            if self.cuda:\n",
        "                y = y.cuda()\n",
        "            return x, y\n",
        "        else:\n",
        "            return x"
      ],
      "execution_count": 4,
      "outputs": []
    },
    {
      "cell_type": "code",
      "metadata": {
        "id": "jRwVKp73PKSe"
      },
      "source": [
        "tl.set_backend('pytorch')"
      ],
      "execution_count": 5,
      "outputs": []
    },
    {
      "cell_type": "code",
      "metadata": {
        "id": "9_rkIh4LPVpQ"
      },
      "source": [
        "working_dir = '/content/drive/My Drive/study/Skoltech/MTF/Project'\n",
        "data_dir = working_dir + '/data/'"
      ],
      "execution_count": 6,
      "outputs": []
    },
    {
      "cell_type": "code",
      "metadata": {
        "id": "tbet726kPKSk"
      },
      "source": [
        "train_set = MOA_set(data_dir + \"train_X.npy\", data_dir + \"train_Y.npy\")\n",
        "val_set = MOA_set(data_dir + \"val_X.npy\", data_dir + \"val_Y.npy\")\n",
        "test_set = MOA_set(data_dir + \"testing_X.npy\")"
      ],
      "execution_count": 8,
      "outputs": []
    },
    {
      "cell_type": "code",
      "metadata": {
        "id": "-4ITLm3rPKSq",
        "outputId": "9375ae88-1aab-4689-f1d4-8bdc48477b84",
        "colab": {
          "base_uri": "https://localhost:8080/",
          "height": 34
        }
      },
      "source": [
        "len(train_set), len(val_set), len(test_set)"
      ],
      "execution_count": 9,
      "outputs": [
        {
          "output_type": "execute_result",
          "data": {
            "text/plain": [
              "(17860, 5954, 3982)"
            ]
          },
          "metadata": {
            "tags": []
          },
          "execution_count": 9
        }
      ]
    },
    {
      "cell_type": "code",
      "metadata": {
        "id": "9prj-Dimkl0u"
      },
      "source": [
        "#train_set_X = torch.from_numpy(np.load(data_dir + \"train_X.npy\")).type(torch.FloatTensor).cuda()\n",
        "#train_set_Y = torch.from_numpy(np.load(data_dir + \"train_Y.npy\")).type(torch.FloatTensor).cuda()\n",
        "#train_dataset = torch.utils.data.TensorDataset(train_set_X, train_set_Y)\n",
        "\n",
        "#val_set_X = torch.from_numpy(np.load(data_dir + \"val_X.npy\")).type(torch.FloatTensor).cuda()\n",
        "#val_set_Y = torch.from_numpy(np.load(data_dir + \"val_Y.npy\")).type(torch.FloatTensor).cuda()\n",
        "#val_dataset = torch.utils.data.TensorDataset(val_set_X, val_set_Y)\n",
        "\n",
        "#test_set_X = torch.from_numpy(np.load(data_dir + \"testing_X.npy\")).type(torch.FloatTensor).cuda()\n",
        "#test_dataset = torch.utils.data.TensorDataset(test_set_X)"
      ],
      "execution_count": 7,
      "outputs": []
    },
    {
      "cell_type": "code",
      "metadata": {
        "id": "9vUiAylMPKSw"
      },
      "source": [
        "BATCH_SIZE = 32"
      ],
      "execution_count": 8,
      "outputs": []
    },
    {
      "cell_type": "code",
      "metadata": {
        "id": "0PGNZO-wPKS1"
      },
      "source": [
        "train_loader = DataLoader(train_set, batch_size=BATCH_SIZE, shuffle=True)\n",
        "val_loader = DataLoader(val_set, batch_size=BATCH_SIZE, shuffle=False)\n",
        "test_loader = DataLoader(test_set, batch_size=BATCH_SIZE, shuffle=False)"
      ],
      "execution_count": 12,
      "outputs": []
    },
    {
      "cell_type": "code",
      "metadata": {
        "id": "WcHgTR0hPKS7"
      },
      "source": [
        "class TensorNet(nn.Module): \n",
        "    \n",
        "    def __init__(self, order, input_dim, tensor_dim, output_dim, rank_tucker=5):\n",
        "        super(TensorNet, self).__init__()\n",
        "        self.tensor = NeuralTensorLayer(\n",
        "            order, input_dim, tensor_dim, rank_tucker=rank_tucker\n",
        "        )\n",
        "        self.bn = nn.BatchNorm1d(tensor_dim)\n",
        "        self.l = nn.Linear(tensor_dim, output_dim)\n",
        "        self.s = nn.Sigmoid()\n",
        "        \n",
        "    def forward(self, x):\n",
        "        return self.s(self.l(self.bn(self.tensor(x))))\n",
        "    \n",
        "    def predict(self, loader, train=True, verbose=False):\n",
        "        Y_hat = []\n",
        "        ld = tqdm(loader) if verbose else loader\n",
        "        for a in ld:\n",
        "            d = a[0] if train else a\n",
        "            c_y_hat = self.forward(d).cpu().data.numpy()\n",
        "            Y_hat.append(c_y_hat)\n",
        "        return np.concatenate(Y_hat)\n",
        "    \n",
        "    def fit(self, loader, loss, optimizer, n_iter, val_loader, metrics, print_every=100, fit_orthogonal=False, orth_alpha=0):\n",
        "        history = {a: [] for a in metrics}\n",
        "        history[\"loss\"] = []\n",
        "        for i in tqdm(np.arange(n_iter)):\n",
        "            mean_loss = 0\n",
        "            self.train()\n",
        "            for i,(batch_X, batch_Y) in enumerate(loader):\n",
        "                optimizer.zero_grad()\n",
        "                Y_hat = self.forward(batch_X)\n",
        "                loss_val = loss(Y_hat, batch_Y)\n",
        "                if fit_orthogonal:\n",
        "                    loss_val += self.tensor.get_orthogonality_loss() * orth_alpha\n",
        "                loss_val.backward()\n",
        "                optimizer.step()\n",
        "                mean_loss += loss_val.cpu().data.numpy()\n",
        "            history[\"loss\"].append(mean_loss/i)\n",
        "            self.eval()\n",
        "            val_Y_hat = self.predict(val_loader)\n",
        "            val_Y = np.concatenate([a[1].cpu().data.numpy() for a in val_loader])\n",
        "            for m in metrics:\n",
        "                history[m].append(metrics[m](val_Y, val_Y_hat))\n",
        "        return history"
      ],
      "execution_count": 9,
      "outputs": []
    },
    {
      "cell_type": "code",
      "metadata": {
        "id": "uuY5A-AMPKS_",
        "outputId": "fb734f20-dd3c-43a9-89d6-58e59ea1774f",
        "colab": {
          "base_uri": "https://localhost:8080/",
          "height": 34
        }
      },
      "source": [
        "model = TensorNet(2, 879, 300, 206).cuda()"
      ],
      "execution_count": 14,
      "outputs": [
        {
          "output_type": "stream",
          "text": [
            "/usr/local/lib/python3.6/dist-packages/ipykernel_launcher.py:41: UserWarning: nn.init.xavier_uniform is now deprecated in favor of nn.init.xavier_uniform_.\n"
          ],
          "name": "stderr"
        }
      ]
    },
    {
      "cell_type": "code",
      "metadata": {
        "id": "tMESFdxxPKTC"
      },
      "source": [
        "loss = nn.BCELoss()\n",
        "optimizer = Adam(model.parameters(), lr=0.001)"
      ],
      "execution_count": 15,
      "outputs": []
    },
    {
      "cell_type": "code",
      "metadata": {
        "id": "JBppta0hPKTE"
      },
      "source": [
        "def frobenius(Y, Y_hat):\n",
        "    return tl.norm(torch.Tensor(Y) - torch.Tensor(Y_hat), 2)\n",
        "\n",
        "def colwize_logloss_train(Y, Y_hat):\n",
        "    summ = 0\n",
        "    for i in range(Y.shape[1]):\n",
        "        summ += loss(Y[:, i], Y_hat[:, i])\n",
        "    return summ / Y.shape[1]\n",
        "\n",
        "def colwize_logloss_eval(Y, Y_hat):\n",
        "    return (Y * np.log(Y_hat) + (1 - Y) * np.log(1 - Y_hat)).mean()"
      ],
      "execution_count": 16,
      "outputs": []
    },
    {
      "cell_type": "code",
      "metadata": {
        "id": "zQS2exymPKTH",
        "outputId": "a6e2f5fc-b097-4403-df4e-fa9f84c2cdb5",
        "colab": {
          "base_uri": "https://localhost:8080/",
          "height": 66,
          "referenced_widgets": [
            "733635ddfbcf473a9f05ef1199129854",
            "61c2a3d703a94c4c8fbe89543fb4b0d7",
            "5a197cbb5c9244ad990581e749d6e7f3",
            "096a12a7d78644e59808dfbf352df51e",
            "a6d4618c5b7d40f9a5ef109d777f22d5",
            "1ad6dbef24684326a0dba579eb8ae7f1",
            "02aa6ecb4ca4422aa156849d165a83e3",
            "9956301be9444219bdd2de6a86402a5a"
          ]
        }
      },
      "source": [
        "history = model.fit(train_loader, colwize_logloss_train, optimizer, 5, val_loader, \n",
        "                    {\"F\": frobenius, \"mean_cw_loss\": colwize_logloss_eval}, fit_orthogonal=True, orth_alpha=0.1)"
      ],
      "execution_count": 17,
      "outputs": [
        {
          "output_type": "display_data",
          "data": {
            "application/vnd.jupyter.widget-view+json": {
              "model_id": "733635ddfbcf473a9f05ef1199129854",
              "version_minor": 0,
              "version_major": 2
            },
            "text/plain": [
              "HBox(children=(FloatProgress(value=0.0, max=5.0), HTML(value='')))"
            ]
          },
          "metadata": {
            "tags": []
          }
        },
        {
          "output_type": "stream",
          "text": [
            "\n"
          ],
          "name": "stdout"
        }
      ]
    },
    {
      "cell_type": "code",
      "metadata": {
        "id": "xS4IHS_foyTZ",
        "outputId": "0d67c4a5-7aa3-418f-dd72-45eba912622d",
        "colab": {
          "base_uri": "https://localhost:8080/",
          "height": 34
        }
      },
      "source": [
        "np.load(data_dir + \"val_X.npy\").shape"
      ],
      "execution_count": 18,
      "outputs": [
        {
          "output_type": "execute_result",
          "data": {
            "text/plain": [
              "(5954, 879)"
            ]
          },
          "metadata": {
            "tags": []
          },
          "execution_count": 18
        }
      ]
    },
    {
      "cell_type": "code",
      "metadata": {
        "id": "vkWiAB16PKTK",
        "outputId": "2e52c186-944c-41c2-e180-07ff847287d1",
        "colab": {
          "base_uri": "https://localhost:8080/",
          "height": 272
        }
      },
      "source": [
        "history"
      ],
      "execution_count": 19,
      "outputs": [
        {
          "output_type": "execute_result",
          "data": {
            "text/plain": [
              "{'F': [tensor(64.1482),\n",
              "  tensor(62.9388),\n",
              "  tensor(63.3691),\n",
              "  tensor(63.4776),\n",
              "  tensor(62.8497)],\n",
              " 'loss': [121455.14062149977,\n",
              "  12590.031572020609,\n",
              "  3844.8062875399028,\n",
              "  1557.6287840703055,\n",
              "  708.3428123228011],\n",
              " 'mean_cw_loss': [-0.020663489,\n",
              "  -0.019911699,\n",
              "  -0.020009637,\n",
              "  -0.020014767,\n",
              "  -0.019845767]}"
            ]
          },
          "metadata": {
            "tags": []
          },
          "execution_count": 19
        }
      ]
    },
    {
      "cell_type": "code",
      "metadata": {
        "id": "ejbSlvppPKTP",
        "outputId": "7da45b35-3d1f-43ea-c93f-0485825d346e",
        "colab": {
          "base_uri": "https://localhost:8080/",
          "height": 284
        }
      },
      "source": [
        "plt.figure(figsize=(15,15))\n",
        "fig, axes = plt.subplots(1,2)\n",
        "axes[0].plot(history[\"loss\"])\n",
        "axes[1].plot(history[\"F\"])\n",
        "axes[0].set_ylabel(\"BCE\")\n",
        "axes[1].set_ylabel(\"F\")\n",
        "plt.show()"
      ],
      "execution_count": 20,
      "outputs": [
        {
          "output_type": "display_data",
          "data": {
            "text/plain": [
              "<Figure size 1080x1080 with 0 Axes>"
            ]
          },
          "metadata": {
            "tags": []
          }
        },
        {
          "output_type": "display_data",
          "data": {
            "image/png": "[encoded data removed]",
            "text/plain": [
              "<Figure size 432x288 with 2 Axes>"
            ]
          },
          "metadata": {
            "tags": [],
            "needs_background": "light"
          }
        }
      ]
    },
    {
      "cell_type": "code",
      "metadata": {
        "id": "QZM_x_XdE27q",
        "outputId": "d8a899e3-7a7b-4d0a-8d74-b41f8f99be25",
        "colab": {
          "base_uri": "https://localhost:8080/",
          "height": 204
        }
      },
      "source": [
        "import pandas as pd\n",
        "data = pd.read_csv(data_dir + 'diabetes.csv')\n",
        "data.head()"
      ],
      "execution_count": 10,
      "outputs": [
        {
          "output_type": "execute_result",
          "data": {
            "text/html": [
              "<div>\n",
              "<style scoped>\n",
              "    .dataframe tbody tr th:only-of-type {\n",
              "        vertical-align: middle;\n",
              "    }\n",
              "\n",
              "    .dataframe tbody tr th {\n",
              "        vertical-align: top;\n",
              "    }\n",
              "\n",
              "    .dataframe thead th {\n",
              "        text-align: right;\n",
              "    }\n",
              "</style>\n",
              "<table border=\"1\" class=\"dataframe\">\n",
              "  <thead>\n",
              "    <tr style=\"text-align: right;\">\n",
              "      <th></th>\n",
              "      <th>Pregnancies</th>\n",
              "      <th>Glucose</th>\n",
              "      <th>BloodPressure</th>\n",
              "      <th>SkinThickness</th>\n",
              "      <th>Insulin</th>\n",
              "      <th>BMI</th>\n",
              "      <th>DiabetesPedigreeFunction</th>\n",
              "      <th>Age</th>\n",
              "      <th>Outcome</th>\n",
              "    </tr>\n",
              "  </thead>\n",
              "  <tbody>\n",
              "    <tr>\n",
              "      <th>0</th>\n",
              "      <td>6</td>\n",
              "      <td>148</td>\n",
              "      <td>72</td>\n",
              "      <td>35</td>\n",
              "      <td>0</td>\n",
              "      <td>33.6</td>\n",
              "      <td>0.627</td>\n",
              "      <td>50</td>\n",
              "      <td>1</td>\n",
              "    </tr>\n",
              "    <tr>\n",
              "      <th>1</th>\n",
              "      <td>1</td>\n",
              "      <td>85</td>\n",
              "      <td>66</td>\n",
              "      <td>29</td>\n",
              "      <td>0</td>\n",
              "      <td>26.6</td>\n",
              "      <td>0.351</td>\n",
              "      <td>31</td>\n",
              "      <td>0</td>\n",
              "    </tr>\n",
              "    <tr>\n",
              "      <th>2</th>\n",
              "      <td>8</td>\n",
              "      <td>183</td>\n",
              "      <td>64</td>\n",
              "      <td>0</td>\n",
              "      <td>0</td>\n",
              "      <td>23.3</td>\n",
              "      <td>0.672</td>\n",
              "      <td>32</td>\n",
              "      <td>1</td>\n",
              "    </tr>\n",
              "    <tr>\n",
              "      <th>3</th>\n",
              "      <td>1</td>\n",
              "      <td>89</td>\n",
              "      <td>66</td>\n",
              "      <td>23</td>\n",
              "      <td>94</td>\n",
              "      <td>28.1</td>\n",
              "      <td>0.167</td>\n",
              "      <td>21</td>\n",
              "      <td>0</td>\n",
              "    </tr>\n",
              "    <tr>\n",
              "      <th>4</th>\n",
              "      <td>0</td>\n",
              "      <td>137</td>\n",
              "      <td>40</td>\n",
              "      <td>35</td>\n",
              "      <td>168</td>\n",
              "      <td>43.1</td>\n",
              "      <td>2.288</td>\n",
              "      <td>33</td>\n",
              "      <td>1</td>\n",
              "    </tr>\n",
              "  </tbody>\n",
              "</table>\n",
              "</div>"
            ],
            "text/plain": [
              "   Pregnancies  Glucose  BloodPressure  ...  DiabetesPedigreeFunction  Age  Outcome\n",
              "0            6      148             72  ...                     0.627   50        1\n",
              "1            1       85             66  ...                     0.351   31        0\n",
              "2            8      183             64  ...                     0.672   32        1\n",
              "3            1       89             66  ...                     0.167   21        0\n",
              "4            0      137             40  ...                     2.288   33        1\n",
              "\n",
              "[5 rows x 9 columns]"
            ]
          },
          "metadata": {
            "tags": []
          },
          "execution_count": 10
        }
      ]
    },
    {
      "cell_type": "code",
      "metadata": {
        "id": "g4pj37aA1iOD",
        "outputId": "9943796e-84aa-41cb-fd38-b7a0af1af62e",
        "colab": {
          "base_uri": "https://localhost:8080/",
          "height": 34
        }
      },
      "source": [
        "len(data)"
      ],
      "execution_count": 11,
      "outputs": [
        {
          "output_type": "execute_result",
          "data": {
            "text/plain": [
              "768"
            ]
          },
          "metadata": {
            "tags": []
          },
          "execution_count": 11
        }
      ]
    },
    {
      "cell_type": "code",
      "metadata": {
        "id": "uRY2WeeL0OWV"
      },
      "source": [
        "target = np.matrix(data['Outcome']).T\n",
        "input = np.matrix(data.drop('Outcome', axis=1))\n",
        "\n",
        "train_input = torch.from_numpy(input[:-100]).type(torch.FloatTensor).cuda()\n",
        "train_target = torch.from_numpy(target[:-100]).type(torch.FloatTensor).cuda()\n",
        "\n",
        "test_input = torch.from_numpy(input[-100:]).type(torch.FloatTensor).cuda()\n",
        "test_target = torch.from_numpy(target[-100:]).type(torch.FloatTensor).cuda()"
      ],
      "execution_count": 12,
      "outputs": []
    },
    {
      "cell_type": "code",
      "metadata": {
        "id": "Vwcd7-u_0Tmk",
        "outputId": "f355a7df-cbc2-4676-ba35-a50cce7068e1",
        "colab": {
          "base_uri": "https://localhost:8080/",
          "height": 34
        }
      },
      "source": [
        "NN = TensorNet(3, input.shape[1], 100, target.shape[1], 15).cuda()"
      ],
      "execution_count": 45,
      "outputs": [
        {
          "output_type": "stream",
          "text": [
            "/usr/local/lib/python3.6/dist-packages/ipykernel_launcher.py:41: UserWarning: nn.init.xavier_uniform is now deprecated in favor of nn.init.xavier_uniform_.\n"
          ],
          "name": "stderr"
        }
      ]
    },
    {
      "cell_type": "code",
      "metadata": {
        "id": "O40QHZGm0rmu"
      },
      "source": [
        "loss = nn.BCELoss()\n",
        "optimizer = Adam(NN.parameters(), lr=0.001)"
      ],
      "execution_count": 46,
      "outputs": []
    },
    {
      "cell_type": "code",
      "metadata": {
        "id": "3n-SybQ01DfB"
      },
      "source": [
        "train_dataset = torch.utils.data.TensorDataset(train_input, train_target)\n",
        "test_dataset = torch.utils.data.TensorDataset(test_input, test_target)\n",
        "\n",
        "train_loader = DataLoader(train_dataset, batch_size=BATCH_SIZE, shuffle=True)\n",
        "test_loader = DataLoader(test_dataset, batch_size=BATCH_SIZE, shuffle=False)"
      ],
      "execution_count": 47,
      "outputs": []
    },
    {
      "cell_type": "code",
      "metadata": {
        "id": "NgHbqdD52WoP"
      },
      "source": [
        "from sklearn.metrics import balanced_accuracy_score, roc_auc_score\n",
        "\n",
        "def balanced_accuracy(Y, Y_hat):\n",
        "    Y_hat[Y_hat > 0.5] = 1\n",
        "    Y_hat[Y_hat <= 0.5] = 0\n",
        "    return balanced_accuracy_score(Y, Y_hat)"
      ],
      "execution_count": 53,
      "outputs": []
    },
    {
      "cell_type": "code",
      "metadata": {
        "id": "h6T-5DNS02A_",
        "outputId": "51272dcc-82b2-4e92-f172-176d21fe8936",
        "colab": {
          "base_uri": "https://localhost:8080/",
          "height": 66,
          "referenced_widgets": [
            "ff47752fdbf5409485de1e33b271da1d",
            "c54d288ccd8e491594d135eeb13c9b28",
            "3aea04fd43634075ba57e32c28713c3a",
            "25956fed99d64f2693151084f37ba6a9",
            "b1678e85659e41d0a324e8dfe311b105",
            "8cf7f5de2e7d406d87aabece4aefc150",
            "6326ea9ff49c467bbae9c55575dd2635",
            "86b7e7687a5b4f9aa6dd18f6de97fcd5"
          ]
        }
      },
      "source": [
        "hist = NN.fit(train_loader, loss, optimizer, 1000, test_loader, {'balanced_accuracy': balanced_accuracy, 'ROC-AUC': roc_auc_score})"
      ],
      "execution_count": 54,
      "outputs": [
        {
          "output_type": "display_data",
          "data": {
            "application/vnd.jupyter.widget-view+json": {
              "model_id": "ff47752fdbf5409485de1e33b271da1d",
              "version_minor": 0,
              "version_major": 2
            },
            "text/plain": [
              "HBox(children=(FloatProgress(value=0.0, max=1000.0), HTML(value='')))"
            ]
          },
          "metadata": {
            "tags": []
          }
        },
        {
          "output_type": "stream",
          "text": [
            "\n"
          ],
          "name": "stdout"
        }
      ]
    },
    {
      "cell_type": "code",
      "metadata": {
        "id": "2tcw1Rm84JwN",
        "outputId": "1211f28b-c032-4fcf-d24d-a27cf7aedb4f",
        "colab": {
          "base_uri": "https://localhost:8080/",
          "height": 282
        }
      },
      "source": [
        "plt.plot(np.arange(len(hist['balanced_accuracy'])), hist['balanced_accuracy'])"
      ],
      "execution_count": 51,
      "outputs": [
        {
          "output_type": "execute_result",
          "data": {
            "text/plain": [
              "[<matplotlib.lines.Line2D at 0x7f2837546780>]"
            ]
          },
          "metadata": {
            "tags": []
          },
          "execution_count": 51
        },
        {
          "output_type": "display_data",
          "data": {
            "image/png": "[encoded data removed]",
            "text/plain": [
              "<Figure size 432x288 with 1 Axes>"
            ]
          },
          "metadata": {
            "tags": [],
            "needs_background": "light"
          }
        }
      ]
    },
    {
      "cell_type": "code",
      "metadata": {
        "id": "D60hj7pY42-J",
        "outputId": "5222279f-d0ff-4f0a-90b7-923a017511ec",
        "colab": {
          "base_uri": "https://localhost:8080/",
          "height": 282
        }
      },
      "source": [
        "plt.plot(np.arange(len(hist['ROC-AUC'])), hist['ROC-AUC'])"
      ],
      "execution_count": 55,
      "outputs": [
        {
          "output_type": "execute_result",
          "data": {
            "text/plain": [
              "[<matplotlib.lines.Line2D at 0x7f2836e9e6a0>]"
            ]
          },
          "metadata": {
            "tags": []
          },
          "execution_count": 55
        },
        {
          "output_type": "display_data",
          "data": {
            "image/png": "[encoded data removed]",
            "text/plain": [
              "<Figure size 432x288 with 1 Axes>"
            ]
          },
          "metadata": {
            "tags": [],
            "needs_background": "light"
          }
        }
      ]
    },
    {
      "cell_type": "code",
      "metadata": {
        "id": "HzKBiYWg_38g"
      },
      "source": [
        ""
      ],
      "execution_count": null,
      "outputs": []
    }
  ]
}