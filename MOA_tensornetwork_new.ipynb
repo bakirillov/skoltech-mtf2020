{
 "cells": [
  {
   "cell_type": "code",
   "execution_count": 1,
   "metadata": {
    "colab": {
     "base_uri": "https://localhost:8080/",
     "height": 272
    },
    "id": "ueaDw5L8oxOy",
    "outputId": "5c6cdffc-c824-4c2c-bb5a-64fe27a6a0b5"
   },
   "outputs": [
    {
     "name": "stdout",
     "output_type": "stream",
     "text": [
      "Collecting tensorly\n",
      "\u001b[?25l  Downloading https://files.pythonhosted.org/packages/d2/14/a399fbea0b8e651bfdcba0cf96e842550204dc2ff24251015fd969b6adec/tensorly-0.5.0.tar.gz (103kB)\n",
      "\u001b[K     |████████████████████████████████| 112kB 2.7MB/s \n",
      "\u001b[?25hRequirement already satisfied: numpy in /usr/local/lib/python3.6/dist-packages (from tensorly) (1.18.5)\n",
      "Requirement already satisfied: scipy in /usr/local/lib/python3.6/dist-packages (from tensorly) (1.4.1)\n",
      "Collecting nose\n",
      "\u001b[?25l  Downloading https://files.pythonhosted.org/packages/15/d8/dd071918c040f50fa1cf80da16423af51ff8ce4a0f2399b7bf8de45ac3d9/nose-1.3.7-py3-none-any.whl (154kB)\n",
      "\u001b[K     |████████████████████████████████| 163kB 8.2MB/s \n",
      "\u001b[?25hBuilding wheels for collected packages: tensorly\n",
      "  Building wheel for tensorly (setup.py) ... \u001b[?25l\u001b[?25hdone\n",
      "  Created wheel for tensorly: filename=tensorly-0.5.0-cp36-none-any.whl size=143028 sha256=ec7f177c67b91f5b7ca8893295f99eb29a5325064b53003d41af33eb0aac2bac\n",
      "  Stored in directory: /root/.cache/pip/wheels/29/54/bc/46d12f7739ad709844b21801e3a91127bc91002111448e3572\n",
      "Successfully built tensorly\n",
      "Installing collected packages: nose, tensorly\n",
      "Successfully installed nose-1.3.7 tensorly-0.5.0\n"
     ]
    }
   ],
   "source": [
    "!pip install tensorly"
   ]
  },
  {
   "cell_type": "code",
   "execution_count": 2,
   "metadata": {
    "id": "u3Nl8k8wPKSP"
   },
   "outputs": [],
   "source": [
    "import torch\n",
    "import numpy as np\n",
    "from torch import nn\n",
    "import tensorly as tl\n",
    "from tqdm import tqdm\n",
    "import matplotlib.pyplot\n",
    "from torch.optim import Adam\n",
    "from torch.utils.data import DataLoader"
   ]
  },
  {
   "cell_type": "code",
   "execution_count": 3,
   "metadata": {
    "colab": {
     "base_uri": "https://localhost:8080/",
     "height": 34
    },
    "id": "f2Zr64XjPzcI",
    "outputId": "e2562902-7cb0-4346-fc6f-fe75805ae03f"
   },
   "outputs": [
    {
     "name": "stdout",
     "output_type": "stream",
     "text": [
      "Mounted at /content/drive\n"
     ]
    }
   ],
   "source": [
    "from google.colab import drive\n",
    "drive.mount('/content/drive')"
   ]
  },
  {
   "cell_type": "code",
   "execution_count": 30,
   "metadata": {
    "id": "rc2qBVDePKSY"
   },
   "outputs": [],
   "source": [
    "import numpy as np\n",
    "import matplotlib.pyplot as plt\n",
    "import torch\n",
    "from torch import nn\n",
    "from tqdm.notebook import tqdm\n",
    "\n",
    "import tensorly as tl\n",
    "from tensorly.random import random_tucker\n",
    "from tensorly.tucker_tensor import tucker_to_tensor\n",
    "\n",
    "\n",
    "from torch.utils.data import Dataset\n",
    "\n",
    "#tl.set_backend('pytorch')\n",
    "\n",
    "\n",
    "class NeuralTensorLayer(torch.nn.Module):\n",
    "    \n",
    "    \"\"\"\n",
    "    This is the class for \n",
    "    \"\"\"\n",
    "    \n",
    "    def __init__(self, order, input_dim, output_dim, rank_tucker=-1,\n",
    "                 initializer=torch.nn.init.xavier_uniform):\n",
    "        \n",
    "        super(NeuralTensorLayer, self).__init__()\n",
    "        \n",
    "        self.order = order\n",
    "        self.rank_tucker = rank_tucker\n",
    "        \n",
    "        if order > 3 or order < 1:\n",
    "            raise Exception('Order must be in range [1, 3]')\n",
    "            \n",
    "        if rank_tucker != -1 and rank_tucker < 1:\n",
    "            raise Exception('Tucker rank must be -1 or greater than 0 integer')\n",
    "            \n",
    "        self.input_dim = input_dim\n",
    "        self.output_dim = output_dim\n",
    "        \n",
    "        self.bias = nn.Parameter(torch.zeros((1, output_dim)), requires_grad=True)\n",
    "        initializer(self.bias)\n",
    "        \n",
    "        self.myparameters = torch.nn.ParameterList([self.bias])\n",
    "        \n",
    "        self.order1_tens = self.initialize_n_order_tensor(1, initializer)\n",
    "        \n",
    "        if order >= 2:\n",
    "            self.order2_tens = self.initialize_n_order_tensor(2, initializer)\n",
    "            \n",
    "        if order == 3:\n",
    "            self.order3_tens = self.initialize_n_order_tensor(3, initializer)\n",
    "        \n",
    "    # initialize tensor in full or in decomposed form and register it as parameter\n",
    "    def initialize_n_order_tensor(self, order, initializer):\n",
    "        \n",
    "        if self.rank_tucker >= 1:\n",
    "            \n",
    "            dim_list = [self.input_dim] * order + [self.output_dim]\n",
    "            tens_core, factors = random_tucker(dim_list, self.rank_tucker)\n",
    "            tens_core = nn.Parameter(tens_core, requires_grad=True)\n",
    "            factors = [nn.Parameter(fact, requires_grad=True) for fact in factors]\n",
    "            \n",
    "            self.myparameters.append(tens_core)\n",
    "            for fact in factors:\n",
    "                self.myparameters.append(fact)\n",
    "                \n",
    "            return (tens_core, factors)\n",
    "            \n",
    "        else:\n",
    "            \n",
    "            dim_list = [self.input_dim] * order + [self.output_dim]\n",
    "            var = nn.Parameter(torch.zeros(dim_list), requires_grad=True)\n",
    "            initializer(var)\n",
    "            self.myparameters.append(var)\n",
    "            \n",
    "            return var\n",
    "\n",
    "    def compute_result_for_vec(self, core, factor_inp, last_factor): # result dim (1, 1)\n",
    "        result = core\n",
    "        for i in range(len(factor_inp)):\n",
    "            result = tl.tenalg.mode_dot(result, factor_inp[i], i)\n",
    "        result = result.view(1, -1).mm(torch.transpose(last_factor, 0, 1))\n",
    "        return result.view(-1)\n",
    "\n",
    "    def mode_n_dot_accelerated(self, core, factors, input):\n",
    "\n",
    "        new_factors = [torch.transpose(factors[i], 0, 1).mm(input) for i in range(len(factors) - 1)]\n",
    "\n",
    "        return torch.stack([\n",
    "                            self.compute_result_for_vec(core, \n",
    "                                                        [new_factors[k][:, i] for k in range(len(factors) - 1)], factors[-1]) \n",
    "                            for i in range(input.shape[1])\n",
    "                            ], dim=0)\n",
    "        \n",
    "    def forward(self, X, transposed=False):\n",
    "        \n",
    "        #X = torch.Tensor(X)\n",
    "        \n",
    "        if self.rank_tucker == -1:\n",
    "            result = torch.addmm(self.bias, X, self.order1_tens)\n",
    "        else:\n",
    "            result = torch.addmm(self.bias, X, tucker_to_tensor(self.order1_tens))\n",
    "        \n",
    "        if self.order >= 2:\n",
    "            \n",
    "            if self.rank_tucker == -1:      \n",
    "                acc = tl.tenalg.mode_dot(self.order2_tens, X, 0)\n",
    "            else:\n",
    "                acc = tl.tenalg.mode_dot(tucker_to_tensor(self.order2_tens), X, 0)\n",
    "\n",
    "            acc = tl.tenalg.mode_dot(acc, X, 1)\n",
    "            result += torch.einsum('iik->ik', acc)\n",
    "        \n",
    "        if self.order == 3:\n",
    "             \n",
    "            if self.rank_tucker == -1:      \n",
    "                acc = tl.tenalg.mode_dot(self.order3_tens, X, 0)\n",
    "            else:\n",
    "                acc = tl.tenalg.mode_dot(tucker_to_tensor(self.order3_tens), X, 0)\n",
    "            \n",
    "            acc = tl.tenalg.mode_dot(acc, X, 1)\n",
    "            acc = tl.tenalg.mode_dot(acc, X, 2)\n",
    "            result += torch.einsum('iiik->ik', acc)\n",
    "        \n",
    "        return tl.reshape(result, (X.shape[0], self.output_dim))\n",
    "\n",
    "    def get_orthogonality_loss(self):\n",
    "\n",
    "        if self.rank_tucker == -1:\n",
    "            return 0\n",
    "\n",
    "        loss = 0\n",
    "\n",
    "        for fact in self.order1_tens[1]:\n",
    "            loss += torch.sum((tl.dot(fact.T, fact) - torch.eye(fact.shape[1]).cuda()) ** 2)\n",
    "        \n",
    "        if self.order >= 2:\n",
    "            \n",
    "            for fact in self.order2_tens[1]:\n",
    "                loss += torch.sum((tl.dot(fact.T, fact) - torch.eye(fact.shape[1]).cuda()) ** 2)\n",
    "        \n",
    "        if self.order == 3:\n",
    "             \n",
    "            for fact in self.order3_tens[1]:\n",
    "                loss += torch.sum((tl.dot(fact.T, fact) - torch.eye(fact.shape[1]).cuda()) ** 2)\n",
    "\n",
    "        return loss\n",
    "\n",
    "\n",
    "class MOA_set(Dataset):\n",
    "    \n",
    "    def __init__(self, fn_X, fn_Y=None, cuda=True):\n",
    "        self.X = np.load(fn_X)\n",
    "        self.Y = None if not fn_Y else np.load(fn_Y)\n",
    "        self.Yn = True if not fn_Y else False\n",
    "        self.cuda = cuda\n",
    "        \n",
    "    def __len__(self):\n",
    "        return(self.X.shape[0])\n",
    "    \n",
    "    def __getitem__(self, ind):\n",
    "        x = torch.from_numpy(self.X[ind]).type(torch.FloatTensor)\n",
    "        if self.cuda:\n",
    "            x = x.cuda()\n",
    "        if not self.Yn:\n",
    "            y = torch.from_numpy(self.Y[ind]).type(torch.FloatTensor)\n",
    "            if self.cuda:\n",
    "                y = y.cuda()\n",
    "            return x, y\n",
    "        else:\n",
    "            return x"
   ]
  },
  {
   "cell_type": "code",
   "execution_count": 31,
   "metadata": {
    "id": "jRwVKp73PKSe"
   },
   "outputs": [],
   "source": [
    "tl.set_backend('pytorch')"
   ]
  },
  {
   "cell_type": "code",
   "execution_count": 32,
   "metadata": {
    "id": "9_rkIh4LPVpQ"
   },
   "outputs": [],
   "source": [
    "working_dir = '/content/drive/My Drive/study/Skoltech/MTF/Project'\n",
    "data_dir = working_dir + '/data/'"
   ]
  },
  {
   "cell_type": "code",
   "execution_count": 33,
   "metadata": {
    "id": "tbet726kPKSk"
   },
   "outputs": [],
   "source": [
    "train_set = MOA_set(data_dir + \"train_X.npy\", data_dir + \"train_Y.npy\")\n",
    "val_set = MOA_set(data_dir + \"val_X.npy\", data_dir + \"val_Y.npy\")\n",
    "test_set = MOA_set(data_dir + \"testing_X.npy\")"
   ]
  },
  {
   "cell_type": "code",
   "execution_count": 34,
   "metadata": {
    "colab": {
     "base_uri": "https://localhost:8080/",
     "height": 34
    },
    "id": "-4ITLm3rPKSq",
    "outputId": "daf599e6-fcfe-4f0a-d39c-13ca4641f023",
    "scrolled": true
   },
   "outputs": [
    {
     "data": {
      "text/plain": [
       "(17860, 5954, 3982)"
      ]
     },
     "execution_count": 34,
     "metadata": {
      "tags": []
     },
     "output_type": "execute_result"
    }
   ],
   "source": [
    "len(train_set), len(val_set), len(test_set)"
   ]
  },
  {
   "cell_type": "code",
   "execution_count": 35,
   "metadata": {
    "id": "9prj-Dimkl0u"
   },
   "outputs": [],
   "source": [
    "#train_set_X = torch.from_numpy(np.load(data_dir + \"train_X.npy\")).type(torch.FloatTensor).cuda()\n",
    "#train_set_Y = torch.from_numpy(np.load(data_dir + \"train_Y.npy\")).type(torch.FloatTensor).cuda()\n",
    "#train_dataset = torch.utils.data.TensorDataset(train_set_X, train_set_Y)\n",
    "\n",
    "#val_set_X = torch.from_numpy(np.load(data_dir + \"val_X.npy\")).type(torch.FloatTensor).cuda()\n",
    "#val_set_Y = torch.from_numpy(np.load(data_dir + \"val_Y.npy\")).type(torch.FloatTensor).cuda()\n",
    "#val_dataset = torch.utils.data.TensorDataset(val_set_X, val_set_Y)\n",
    "\n",
    "#test_set_X = torch.from_numpy(np.load(data_dir + \"testing_X.npy\")).type(torch.FloatTensor).cuda()\n",
    "#test_dataset = torch.utils.data.TensorDataset(test_set_X)"
   ]
  },
  {
   "cell_type": "code",
   "execution_count": 36,
   "metadata": {
    "id": "9vUiAylMPKSw"
   },
   "outputs": [],
   "source": [
    "BATCH_SIZE = 32"
   ]
  },
  {
   "cell_type": "code",
   "execution_count": 37,
   "metadata": {
    "id": "0PGNZO-wPKS1"
   },
   "outputs": [],
   "source": [
    "train_loader = DataLoader(train_set, batch_size=BATCH_SIZE, shuffle=True)\n",
    "val_loader = DataLoader(val_set, batch_size=BATCH_SIZE, shuffle=False)\n",
    "test_loader = DataLoader(test_set, batch_size=BATCH_SIZE, shuffle=False)"
   ]
  },
  {
   "cell_type": "code",
   "execution_count": 38,
   "metadata": {
    "id": "WcHgTR0hPKS7"
   },
   "outputs": [],
   "source": [
    "class TensorNet(nn.Module): \n",
    "    \n",
    "    def __init__(self, order, input_dim, tensor_dim, output_dim, rank_tucker=5):\n",
    "        super(TensorNet, self).__init__()\n",
    "        self.tensor = NeuralTensorLayer(\n",
    "            order, input_dim, tensor_dim, rank_tucker=rank_tucker\n",
    "        )\n",
    "        self.bn = nn.BatchNorm1d(tensor_dim)\n",
    "        self.l = nn.Linear(tensor_dim, output_dim)\n",
    "        self.s = nn.Sigmoid()\n",
    "        \n",
    "    def forward(self, x):\n",
    "        return self.s(self.l(self.bn(self.tensor(x))))\n",
    "    \n",
    "    def predict(self, loader, train=True, verbose=False):\n",
    "        Y_hat = []\n",
    "        ld = tqdm(loader) if verbose else loader\n",
    "        for a in ld:\n",
    "            d = a[0] if train else a\n",
    "            c_y_hat = self.forward(d).cpu().data.numpy()\n",
    "            Y_hat.append(c_y_hat)\n",
    "        return np.concatenate(Y_hat)\n",
    "    \n",
    "    def fit(self, loader, loss, optimizer, n_iter, val_loader, metrics, print_every=100, fit_orthogonal=False, orth_alpha=0):\n",
    "        history = {a: [] for a in metrics}\n",
    "        history[\"loss\"] = []\n",
    "        for i in tqdm(np.arange(n_iter)):\n",
    "            mean_loss = 0\n",
    "            self.train()\n",
    "            for i,(batch_X, batch_Y) in enumerate(loader):\n",
    "                optimizer.zero_grad()\n",
    "                Y_hat = self.forward(batch_X)\n",
    "                loss_val = loss(Y_hat, batch_Y)\n",
    "                if fit_orthogonal:\n",
    "                    loss_val += self.tensor.get_orthogonality_loss() * orth_alpha\n",
    "                loss_val.backward()\n",
    "                optimizer.step()\n",
    "                mean_loss += loss_val.cpu().data.numpy()\n",
    "            history[\"loss\"].append(mean_loss/i)\n",
    "            self.eval()\n",
    "            val_Y_hat = self.predict(val_loader)\n",
    "            val_Y = np.concatenate([a[1].cpu().data.numpy() for a in val_loader])\n",
    "            for m in metrics:\n",
    "                history[m].append(metrics[m](val_Y, val_Y_hat))\n",
    "        return history"
   ]
  },
  {
   "cell_type": "code",
   "execution_count": 39,
   "metadata": {
    "colab": {
     "base_uri": "https://localhost:8080/",
     "height": 34
    },
    "id": "uuY5A-AMPKS_",
    "outputId": "3cc6aef2-ea95-4760-9388-5f9ec6c5c461"
   },
   "outputs": [
    {
     "name": "stderr",
     "output_type": "stream",
     "text": [
      "/usr/local/lib/python3.6/dist-packages/ipykernel_launcher.py:41: UserWarning: nn.init.xavier_uniform is now deprecated in favor of nn.init.xavier_uniform_.\n"
     ]
    }
   ],
   "source": [
    "model = TensorNet(2, 879, 300, 206).cuda()"
   ]
  },
  {
   "cell_type": "code",
   "execution_count": 40,
   "metadata": {
    "id": "tMESFdxxPKTC"
   },
   "outputs": [],
   "source": [
    "loss = nn.BCELoss()\n",
    "optimizer = Adam(model.parameters(), lr=0.001)"
   ]
  },
  {
   "cell_type": "code",
   "execution_count": 41,
   "metadata": {
    "id": "JBppta0hPKTE"
   },
   "outputs": [],
   "source": [
    "def frobenius(Y, Y_hat):\n",
    "    return tl.norm(torch.Tensor(Y) - torch.Tensor(Y_hat), 2)\n",
    "\n",
    "def colwize_logloss_train(Y, Y_hat):\n",
    "    summ = 0\n",
    "    for i in range(Y.shape[1]):\n",
    "        summ += loss(Y[:, i], Y_hat[:, i])\n",
    "    return summ / Y.shape[1]\n",
    "\n",
    "def colwize_logloss_eval(Y, Y_hat):\n",
    "    return (Y * np.log(Y_hat) + (1 - Y) * np.log(1 - Y_hat)).mean()"
   ]
  },
  {
   "cell_type": "code",
   "execution_count": 42,
   "metadata": {
    "colab": {
     "base_uri": "https://localhost:8080/",
     "height": 66,
     "referenced_widgets": [
      "d4f2351417d94d2db81b80c119db8f42",
      "dc3ee6687d004644873f5217e24c9a1e",
      "c6018c7a3af048f6a16928fd33f500fb",
      "4fcda51645c441c2bab5fa0467e1451e",
      "4bad26ddd5374ee984bc5d6c29ff85f8",
      "5ea345cff26e4ea0b7862fc03b9a10fa",
      "92c642a1476248018746f6cb47ffcb5b",
      "32e3048d8cce401f9f0245b46c433d91"
     ]
    },
    "id": "zQS2exymPKTH",
    "outputId": "5f04ab3b-5f58-4581-f01e-ca7d254f1053"
   },
   "outputs": [
    {
     "data": {
      "application/vnd.jupyter.widget-view+json": {
       "model_id": "d4f2351417d94d2db81b80c119db8f42",
       "version_major": 2,
       "version_minor": 0
      },
      "text/plain": [
       "HBox(children=(FloatProgress(value=0.0, max=5.0), HTML(value='')))"
      ]
     },
     "metadata": {
      "tags": []
     },
     "output_type": "display_data"
    },
    {
     "name": "stdout",
     "output_type": "stream",
     "text": [
      "\n"
     ]
    }
   ],
   "source": [
    "history = model.fit(train_loader, colwize_logloss_train, optimizer, 5, val_loader, \n",
    "                    {\"F\": frobenius, \"mean_cw_loss\": colwize_logloss_eval}, fit_orthogonal=True, orth_alpha=0.1)"
   ]
  },
  {
   "cell_type": "code",
   "execution_count": 25,
   "metadata": {
    "colab": {
     "base_uri": "https://localhost:8080/",
     "height": 34
    },
    "id": "xS4IHS_foyTZ",
    "outputId": "7ccccd65-c8ae-45a4-f460-d04120c2dd70"
   },
   "outputs": [
    {
     "data": {
      "text/plain": [
       "(5954, 879)"
      ]
     },
     "execution_count": 25,
     "metadata": {
      "tags": []
     },
     "output_type": "execute_result"
    }
   ],
   "source": [
    "np.load(data_dir + \"val_X.npy\").shape"
   ]
  },
  {
   "cell_type": "code",
   "execution_count": 26,
   "metadata": {
    "colab": {
     "base_uri": "https://localhost:8080/",
     "height": 272
    },
    "id": "vkWiAB16PKTK",
    "outputId": "661031b6-633a-46e2-e1b7-5c49ef2bbbe2"
   },
   "outputs": [
    {
     "data": {
      "text/plain": [
       "{'F': [tensor(62.2898),\n",
       "  tensor(62.1905),\n",
       "  tensor(62.7790),\n",
       "  tensor(62.2607),\n",
       "  tensor(61.9622)],\n",
       " 'loss': [0.05996820341468552,\n",
       "  0.020249347194134654,\n",
       "  0.020147337915382504,\n",
       "  0.02017999151020601,\n",
       "  0.02020160749381054],\n",
       " 'mean_cw_loss': [-0.01998721,\n",
       "  -0.019713264,\n",
       "  -0.019858759,\n",
       "  -0.019690346,\n",
       "  -0.019621376]}"
      ]
     },
     "execution_count": 26,
     "metadata": {
      "tags": []
     },
     "output_type": "execute_result"
    }
   ],
   "source": [
    "history"
   ]
  },
  {
   "cell_type": "code",
   "execution_count": 28,
   "metadata": {
    "colab": {
     "base_uri": "https://localhost:8080/",
     "height": 282
    },
    "id": "ejbSlvppPKTP",
    "outputId": "7ab7b741-99a2-4f3d-8b3c-76b89475ea5f"
   },
   "outputs": [
    {
     "data": {
      "text/plain": [
       "<Figure size 1080x1080 with 0 Axes>"
      ]
     },
     "metadata": {
      "tags": []
     },
     "output_type": "display_data"
    },
    {
     "data": {
      "image/png": "[encoded data removed]",
      "text/plain": [
       "<Figure size 432x288 with 2 Axes>"
      ]
     },
     "metadata": {
      "needs_background": "light",
      "tags": []
     },
     "output_type": "display_data"
    }
   ],
   "source": [
    "plt.figure(figsize=(15,15))\n",
    "fig, axes = plt.subplots(1,2)\n",
    "axes[0].plot(history[\"loss\"])\n",
    "axes[1].plot(history[\"F\"])\n",
    "axes[0].set_ylabel(\"BCE\")\n",
    "axes[1].set_ylabel(\"F\")\n",
    "plt.show()"
   ]
  },
  {
   "cell_type": "code",
   "execution_count": null,
   "metadata": {
    "id": "QZM_x_XdE27q"
   },
   "outputs": [],
   "source": []
  }
 ],
 "metadata": {
  "accelerator": "GPU",
  "colab": {
   "collapsed_sections": [],
   "name": "MOA_tensornetwork.ipynb",
   "provenance": []
  },
  "kernelspec": {
   "display_name": "Python 3",
   "language": "python",
   "name": "python3"
  },
  "language_info": {
   "codemirror_mode": {
    "name": "ipython",
    "version": 3
   },
   "file_extension": ".py",
   "mimetype": "text/x-python",
   "name": "python",
   "nbconvert_exporter": "python",
   "pygments_lexer": "ipython3",
   "version": "3.7.5"
  },
  "widgets": {
   "application/vnd.jupyter.widget-state+json": {
    "32e3048d8cce401f9f0245b46c433d91": {
     "model_module": "@jupyter-widgets/base",
     "model_name": "LayoutModel",
     "state": {
      "_model_module": "@jupyter-widgets/base",
      "_model_module_version": "1.2.0",
      "_model_name": "LayoutModel",
      "_view_count": null,
      "_view_module": "@jupyter-widgets/base",
      "_view_module_version": "1.2.0",
      "_view_name": "LayoutView",
      "align_content": null,
      "align_items": null,
      "align_self": null,
      "border": null,
      "bottom": null,
      "display": null,
      "flex": null,
      "flex_flow": null,
      "grid_area": null,
      "grid_auto_columns": null,
      "grid_auto_flow": null,
      "grid_auto_rows": null,
      "grid_column": null,
      "grid_gap": null,
      "grid_row": null,
      "grid_template_areas": null,
      "grid_template_columns": null,
      "grid_template_rows": null,
      "height": null,
      "justify_content": null,
      "justify_items": null,
      "left": null,
      "margin": null,
      "max_height": null,
      "max_width": null,
      "min_height": null,
      "min_width": null,
      "object_fit": null,
      "object_position": null,
      "order": null,
      "overflow": null,
      "overflow_x": null,
      "overflow_y": null,
      "padding": null,
      "right": null,
      "top": null,
      "visibility": null,
      "width": null
     }
    },
    "4bad26ddd5374ee984bc5d6c29ff85f8": {
     "model_module": "@jupyter-widgets/controls",
     "model_name": "ProgressStyleModel",
     "state": {
      "_model_module": "@jupyter-widgets/controls",
      "_model_module_version": "1.5.0",
      "_model_name": "ProgressStyleModel",
      "_view_count": null,
      "_view_module": "@jupyter-widgets/base",
      "_view_module_version": "1.2.0",
      "_view_name": "StyleView",
      "bar_color": null,
      "description_width": "initial"
     }
    },
    "4fcda51645c441c2bab5fa0467e1451e": {
     "model_module": "@jupyter-widgets/controls",
     "model_name": "HTMLModel",
     "state": {
      "_dom_classes": [],
      "_model_module": "@jupyter-widgets/controls",
      "_model_module_version": "1.5.0",
      "_model_name": "HTMLModel",
      "_view_count": null,
      "_view_module": "@jupyter-widgets/controls",
      "_view_module_version": "1.5.0",
      "_view_name": "HTMLView",
      "description": "",
      "description_tooltip": null,
      "layout": "IPY_MODEL_32e3048d8cce401f9f0245b46c433d91",
      "placeholder": "​",
      "style": "IPY_MODEL_92c642a1476248018746f6cb47ffcb5b",
      "value": " 5/5 [19:39&lt;00:00, 235.85s/it]"
     }
    },
    "5ea345cff26e4ea0b7862fc03b9a10fa": {
     "model_module": "@jupyter-widgets/base",
     "model_name": "LayoutModel",
     "state": {
      "_model_module": "@jupyter-widgets/base",
      "_model_module_version": "1.2.0",
      "_model_name": "LayoutModel",
      "_view_count": null,
      "_view_module": "@jupyter-widgets/base",
      "_view_module_version": "1.2.0",
      "_view_name": "LayoutView",
      "align_content": null,
      "align_items": null,
      "align_self": null,
      "border": null,
      "bottom": null,
      "display": null,
      "flex": null,
      "flex_flow": null,
      "grid_area": null,
      "grid_auto_columns": null,
      "grid_auto_flow": null,
      "grid_auto_rows": null,
      "grid_column": null,
      "grid_gap": null,
      "grid_row": null,
      "grid_template_areas": null,
      "grid_template_columns": null,
      "grid_template_rows": null,
      "height": null,
      "justify_content": null,
      "justify_items": null,
      "left": null,
      "margin": null,
      "max_height": null,
      "max_width": null,
      "min_height": null,
      "min_width": null,
      "object_fit": null,
      "object_position": null,
      "order": null,
      "overflow": null,
      "overflow_x": null,
      "overflow_y": null,
      "padding": null,
      "right": null,
      "top": null,
      "visibility": null,
      "width": null
     }
    },
    "92c642a1476248018746f6cb47ffcb5b": {
     "model_module": "@jupyter-widgets/controls",
     "model_name": "DescriptionStyleModel",
     "state": {
      "_model_module": "@jupyter-widgets/controls",
      "_model_module_version": "1.5.0",
      "_model_name": "DescriptionStyleModel",
      "_view_count": null,
      "_view_module": "@jupyter-widgets/base",
      "_view_module_version": "1.2.0",
      "_view_name": "StyleView",
      "description_width": ""
     }
    },
    "c6018c7a3af048f6a16928fd33f500fb": {
     "model_module": "@jupyter-widgets/controls",
     "model_name": "FloatProgressModel",
     "state": {
      "_dom_classes": [],
      "_model_module": "@jupyter-widgets/controls",
      "_model_module_version": "1.5.0",
      "_model_name": "FloatProgressModel",
      "_view_count": null,
      "_view_module": "@jupyter-widgets/controls",
      "_view_module_version": "1.5.0",
      "_view_name": "ProgressView",
      "bar_style": "success",
      "description": "100%",
      "description_tooltip": null,
      "layout": "IPY_MODEL_5ea345cff26e4ea0b7862fc03b9a10fa",
      "max": 5,
      "min": 0,
      "orientation": "horizontal",
      "style": "IPY_MODEL_4bad26ddd5374ee984bc5d6c29ff85f8",
      "value": 5
     }
    },
    "d4f2351417d94d2db81b80c119db8f42": {
     "model_module": "@jupyter-widgets/controls",
     "model_name": "HBoxModel",
     "state": {
      "_dom_classes": [],
      "_model_module": "@jupyter-widgets/controls",
      "_model_module_version": "1.5.0",
      "_model_name": "HBoxModel",
      "_view_count": null,
      "_view_module": "@jupyter-widgets/controls",
      "_view_module_version": "1.5.0",
      "_view_name": "HBoxView",
      "box_style": "",
      "children": [
       "IPY_MODEL_c6018c7a3af048f6a16928fd33f500fb",
       "IPY_MODEL_4fcda51645c441c2bab5fa0467e1451e"
      ],
      "layout": "IPY_MODEL_dc3ee6687d004644873f5217e24c9a1e"
     }
    },
    "dc3ee6687d004644873f5217e24c9a1e": {
     "model_module": "@jupyter-widgets/base",
     "model_name": "LayoutModel",
     "state": {
      "_model_module": "@jupyter-widgets/base",
      "_model_module_version": "1.2.0",
      "_model_name": "LayoutModel",
      "_view_count": null,
      "_view_module": "@jupyter-widgets/base",
      "_view_module_version": "1.2.0",
      "_view_name": "LayoutView",
      "align_content": null,
      "align_items": null,
      "align_self": null,
      "border": null,
      "bottom": null,
      "display": null,
      "flex": null,
      "flex_flow": null,
      "grid_area": null,
      "grid_auto_columns": null,
      "grid_auto_flow": null,
      "grid_auto_rows": null,
      "grid_column": null,
      "grid_gap": null,
      "grid_row": null,
      "grid_template_areas": null,
      "grid_template_columns": null,
      "grid_template_rows": null,
      "height": null,
      "justify_content": null,
      "justify_items": null,
      "left": null,
      "margin": null,
      "max_height": null,
      "max_width": null,
      "min_height": null,
      "min_width": null,
      "object_fit": null,
      "object_position": null,
      "order": null,
      "overflow": null,
      "overflow_x": null,
      "overflow_y": null,
      "padding": null,
      "right": null,
      "top": null,
      "visibility": null,
      "width": null
     }
    }
   }
  }
 },
 "nbformat": 4,
 "nbformat_minor": 1
}
